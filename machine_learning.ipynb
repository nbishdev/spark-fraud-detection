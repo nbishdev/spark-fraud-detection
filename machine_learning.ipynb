{
 "cells": [
  {
   "cell_type": "markdown",
   "metadata": {},
   "source": [
    "# Fraud Detection\n",
    "## Machine Learning in Python"
   ]
  },
  {
   "cell_type": "markdown",
   "metadata": {},
   "source": [
    "### This notebook presents some data analysis pipelines with PySpark.\n",
    "### The dataset used in this example is the [Real or Fake] : Fake Job Description Prediction, which can be dowloaded from [Kaggle](https://www.kaggle.com/shivamb/real-or-fake-fake-jobposting-prediction)."
   ]
  },
  {
   "cell_type": "markdown",
   "metadata": {},
   "source": [
    "#### This notebook uses Python version 3.6 or newer."
   ]
  },
  {
   "cell_type": "markdown",
   "metadata": {},
   "source": [
    "Let's start by checking the Python version."
   ]
  },
  {
   "cell_type": "code",
   "execution_count": 1,
   "metadata": {},
   "outputs": [],
   "source": [
    "import sys\n",
    "\n",
    "if int(sys.version[0]) < 3 or int(sys.version[2]) < 6:\n",
    "    assert(\"Python version 3.6 or newer is required\")"
   ]
  },
  {
   "cell_type": "markdown",
   "metadata": {},
   "source": [
    "We continue by importing the necessary libraries and toolkits."
   ]
  },
  {
   "cell_type": "code",
   "execution_count": 2,
   "metadata": {},
   "outputs": [],
   "source": [
    "import matplotlib.pyplot as plt\n",
    "import nltk\n",
    "import numpy as np\n",
    "import pandas as pd\n",
    "import re\n",
    "import seaborn as sns\n",
    "from nltk.corpus import stopwords\n",
    "from nltk.stem import PorterStemmer, SnowballStemmer, WordNetLemmatizer\n",
    "from sklearn.ensemble import AdaBoostClassifier, BaggingClassifier\n",
    "from sklearn.feature_extraction.text import CountVectorizer, TfidfVectorizer\n",
    "from sklearn.impute import SimpleImputer\n",
    "from sklearn.linear_model import SGDClassifier, Perceptron\n",
    "from sklearn.metrics import classification_report\n",
    "from sklearn.model_selection import train_test_split\n",
    "from sklearn.naive_bayes import GaussianNB\n",
    "from sklearn.neighbors import NearestCentroid\n",
    "from sklearn.pipeline import FeatureUnion, Pipeline\n",
    "from sklearn.preprocessing import FunctionTransformer, LabelEncoder\n",
    "from sklearn.tree import DecisionTreeClassifier\n",
    "from tensorflow.keras.activations import relu, softmax\n",
    "from tensorflow.keras.callbacks import EarlyStopping\n",
    "from tensorflow.keras.layers import Dense, Dropout, Input\n",
    "from tensorflow.keras.metrics import RootMeanSquaredError\n",
    "from tensorflow.keras.models import Sequential\n",
    "from tensorflow.keras.optimizers import SGD\n",
    "from tensorflow.keras.utils import to_categorical\n",
    "\n",
    "%matplotlib inline"
   ]
  },
  {
   "cell_type": "markdown",
   "metadata": {},
   "source": [
    "## Data Exploration"
   ]
  },
  {
   "cell_type": "markdown",
   "metadata": {},
   "source": [
    "Let's load the dataset into a Pandas Dataframe and perform some data exploration."
   ]
  },
  {
   "cell_type": "code",
   "execution_count": 3,
   "metadata": {},
   "outputs": [],
   "source": [
    "dataset_path = './fake_job_postings.csv'\n",
    "df = pd.read_csv(dataset_path, encoding='utf-8')\n",
    "df = df.replace([pd.NA, 'NaN', 'nan', 'NULL', 'Null', 'null', '', r'\\s+\\s*'], np.nan)"
   ]
  },
  {
   "cell_type": "code",
   "execution_count": 4,
   "metadata": {},
   "outputs": [
    {
     "data": {
      "text/html": [
       "<div>\n",
       "<style scoped>\n",
       "    .dataframe tbody tr th:only-of-type {\n",
       "        vertical-align: middle;\n",
       "    }\n",
       "\n",
       "    .dataframe tbody tr th {\n",
       "        vertical-align: top;\n",
       "    }\n",
       "\n",
       "    .dataframe thead th {\n",
       "        text-align: right;\n",
       "    }\n",
       "</style>\n",
       "<table border=\"1\" class=\"dataframe\">\n",
       "  <thead>\n",
       "    <tr style=\"text-align: right;\">\n",
       "      <th></th>\n",
       "      <th>job_id</th>\n",
       "      <th>title</th>\n",
       "      <th>location</th>\n",
       "      <th>department</th>\n",
       "      <th>salary_range</th>\n",
       "      <th>company_profile</th>\n",
       "      <th>description</th>\n",
       "      <th>requirements</th>\n",
       "      <th>benefits</th>\n",
       "      <th>telecommuting</th>\n",
       "      <th>has_company_logo</th>\n",
       "      <th>has_questions</th>\n",
       "      <th>employment_type</th>\n",
       "      <th>required_experience</th>\n",
       "      <th>required_education</th>\n",
       "      <th>industry</th>\n",
       "      <th>function</th>\n",
       "      <th>fraudulent</th>\n",
       "    </tr>\n",
       "  </thead>\n",
       "  <tbody>\n",
       "    <tr>\n",
       "      <th>0</th>\n",
       "      <td>1</td>\n",
       "      <td>Marketing Intern</td>\n",
       "      <td>US, NY, New York</td>\n",
       "      <td>Marketing</td>\n",
       "      <td>NaN</td>\n",
       "      <td>We're Food52, and we've created a groundbreaki...</td>\n",
       "      <td>Food52, a fast-growing, James Beard Award-winn...</td>\n",
       "      <td>Experience with content management systems a m...</td>\n",
       "      <td>NaN</td>\n",
       "      <td>0</td>\n",
       "      <td>1</td>\n",
       "      <td>0</td>\n",
       "      <td>Other</td>\n",
       "      <td>Internship</td>\n",
       "      <td>NaN</td>\n",
       "      <td>NaN</td>\n",
       "      <td>Marketing</td>\n",
       "      <td>0</td>\n",
       "    </tr>\n",
       "    <tr>\n",
       "      <th>1</th>\n",
       "      <td>2</td>\n",
       "      <td>Customer Service - Cloud Video Production</td>\n",
       "      <td>NZ, , Auckland</td>\n",
       "      <td>Success</td>\n",
       "      <td>NaN</td>\n",
       "      <td>90 Seconds, the worlds Cloud Video Production ...</td>\n",
       "      <td>Organised - Focused - Vibrant - Awesome!Do you...</td>\n",
       "      <td>What we expect from you:Your key responsibilit...</td>\n",
       "      <td>What you will get from usThrough being part of...</td>\n",
       "      <td>0</td>\n",
       "      <td>1</td>\n",
       "      <td>0</td>\n",
       "      <td>Full-time</td>\n",
       "      <td>Not Applicable</td>\n",
       "      <td>NaN</td>\n",
       "      <td>Marketing and Advertising</td>\n",
       "      <td>Customer Service</td>\n",
       "      <td>0</td>\n",
       "    </tr>\n",
       "    <tr>\n",
       "      <th>2</th>\n",
       "      <td>3</td>\n",
       "      <td>Commissioning Machinery Assistant (CMA)</td>\n",
       "      <td>US, IA, Wever</td>\n",
       "      <td>NaN</td>\n",
       "      <td>NaN</td>\n",
       "      <td>Valor Services provides Workforce Solutions th...</td>\n",
       "      <td>Our client, located in Houston, is actively se...</td>\n",
       "      <td>Implement pre-commissioning and commissioning ...</td>\n",
       "      <td>NaN</td>\n",
       "      <td>0</td>\n",
       "      <td>1</td>\n",
       "      <td>0</td>\n",
       "      <td>NaN</td>\n",
       "      <td>NaN</td>\n",
       "      <td>NaN</td>\n",
       "      <td>NaN</td>\n",
       "      <td>NaN</td>\n",
       "      <td>0</td>\n",
       "    </tr>\n",
       "    <tr>\n",
       "      <th>3</th>\n",
       "      <td>4</td>\n",
       "      <td>Account Executive - Washington DC</td>\n",
       "      <td>US, DC, Washington</td>\n",
       "      <td>Sales</td>\n",
       "      <td>NaN</td>\n",
       "      <td>Our passion for improving quality of life thro...</td>\n",
       "      <td>THE COMPANY: ESRI – Environmental Systems Rese...</td>\n",
       "      <td>EDUCATION: Bachelor’s or Master’s in GIS, busi...</td>\n",
       "      <td>Our culture is anything but corporate—we have ...</td>\n",
       "      <td>0</td>\n",
       "      <td>1</td>\n",
       "      <td>0</td>\n",
       "      <td>Full-time</td>\n",
       "      <td>Mid-Senior level</td>\n",
       "      <td>Bachelor's Degree</td>\n",
       "      <td>Computer Software</td>\n",
       "      <td>Sales</td>\n",
       "      <td>0</td>\n",
       "    </tr>\n",
       "    <tr>\n",
       "      <th>4</th>\n",
       "      <td>5</td>\n",
       "      <td>Bill Review Manager</td>\n",
       "      <td>US, FL, Fort Worth</td>\n",
       "      <td>NaN</td>\n",
       "      <td>NaN</td>\n",
       "      <td>SpotSource Solutions LLC is a Global Human Cap...</td>\n",
       "      <td>JOB TITLE: Itemization Review ManagerLOCATION:...</td>\n",
       "      <td>QUALIFICATIONS:RN license in the State of Texa...</td>\n",
       "      <td>Full Benefits Offered</td>\n",
       "      <td>0</td>\n",
       "      <td>1</td>\n",
       "      <td>1</td>\n",
       "      <td>Full-time</td>\n",
       "      <td>Mid-Senior level</td>\n",
       "      <td>Bachelor's Degree</td>\n",
       "      <td>Hospital &amp; Health Care</td>\n",
       "      <td>Health Care Provider</td>\n",
       "      <td>0</td>\n",
       "    </tr>\n",
       "  </tbody>\n",
       "</table>\n",
       "</div>"
      ],
      "text/plain": [
       "   job_id                                      title            location  \\\n",
       "0       1                           Marketing Intern    US, NY, New York   \n",
       "1       2  Customer Service - Cloud Video Production      NZ, , Auckland   \n",
       "2       3    Commissioning Machinery Assistant (CMA)       US, IA, Wever   \n",
       "3       4          Account Executive - Washington DC  US, DC, Washington   \n",
       "4       5                        Bill Review Manager  US, FL, Fort Worth   \n",
       "\n",
       "  department salary_range                                    company_profile  \\\n",
       "0  Marketing          NaN  We're Food52, and we've created a groundbreaki...   \n",
       "1    Success          NaN  90 Seconds, the worlds Cloud Video Production ...   \n",
       "2        NaN          NaN  Valor Services provides Workforce Solutions th...   \n",
       "3      Sales          NaN  Our passion for improving quality of life thro...   \n",
       "4        NaN          NaN  SpotSource Solutions LLC is a Global Human Cap...   \n",
       "\n",
       "                                         description  \\\n",
       "0  Food52, a fast-growing, James Beard Award-winn...   \n",
       "1  Organised - Focused - Vibrant - Awesome!Do you...   \n",
       "2  Our client, located in Houston, is actively se...   \n",
       "3  THE COMPANY: ESRI – Environmental Systems Rese...   \n",
       "4  JOB TITLE: Itemization Review ManagerLOCATION:...   \n",
       "\n",
       "                                        requirements  \\\n",
       "0  Experience with content management systems a m...   \n",
       "1  What we expect from you:Your key responsibilit...   \n",
       "2  Implement pre-commissioning and commissioning ...   \n",
       "3  EDUCATION: Bachelor’s or Master’s in GIS, busi...   \n",
       "4  QUALIFICATIONS:RN license in the State of Texa...   \n",
       "\n",
       "                                            benefits  telecommuting  \\\n",
       "0                                                NaN              0   \n",
       "1  What you will get from usThrough being part of...              0   \n",
       "2                                                NaN              0   \n",
       "3  Our culture is anything but corporate—we have ...              0   \n",
       "4                              Full Benefits Offered              0   \n",
       "\n",
       "   has_company_logo  has_questions employment_type required_experience  \\\n",
       "0                 1              0           Other          Internship   \n",
       "1                 1              0       Full-time      Not Applicable   \n",
       "2                 1              0             NaN                 NaN   \n",
       "3                 1              0       Full-time    Mid-Senior level   \n",
       "4                 1              1       Full-time    Mid-Senior level   \n",
       "\n",
       "  required_education                   industry              function  \\\n",
       "0                NaN                        NaN             Marketing   \n",
       "1                NaN  Marketing and Advertising      Customer Service   \n",
       "2                NaN                        NaN                   NaN   \n",
       "3  Bachelor's Degree          Computer Software                 Sales   \n",
       "4  Bachelor's Degree     Hospital & Health Care  Health Care Provider   \n",
       "\n",
       "   fraudulent  \n",
       "0           0  \n",
       "1           0  \n",
       "2           0  \n",
       "3           0  \n",
       "4           0  "
      ]
     },
     "execution_count": 4,
     "metadata": {},
     "output_type": "execute_result"
    }
   ],
   "source": [
    "df.head()"
   ]
  },
  {
   "cell_type": "markdown",
   "metadata": {},
   "source": [
    "Let's check the column types, to make sure the dataset was properly loaded."
   ]
  },
  {
   "cell_type": "code",
   "execution_count": 5,
   "metadata": {},
   "outputs": [
    {
     "name": "stdout",
     "output_type": "stream",
     "text": [
      "<class 'pandas.core.frame.DataFrame'>\n",
      "RangeIndex: 17880 entries, 0 to 17879\n",
      "Data columns (total 18 columns):\n",
      " #   Column               Non-Null Count  Dtype \n",
      "---  ------               --------------  ----- \n",
      " 0   job_id               17880 non-null  int64 \n",
      " 1   title                17880 non-null  object\n",
      " 2   location             17534 non-null  object\n",
      " 3   department           6333 non-null   object\n",
      " 4   salary_range         2868 non-null   object\n",
      " 5   company_profile      14572 non-null  object\n",
      " 6   description          17879 non-null  object\n",
      " 7   requirements         15185 non-null  object\n",
      " 8   benefits             10670 non-null  object\n",
      " 9   telecommuting        17880 non-null  int64 \n",
      " 10  has_company_logo     17880 non-null  int64 \n",
      " 11  has_questions        17880 non-null  int64 \n",
      " 12  employment_type      14409 non-null  object\n",
      " 13  required_experience  10830 non-null  object\n",
      " 14  required_education   9775 non-null   object\n",
      " 15  industry             12977 non-null  object\n",
      " 16  function             11425 non-null  object\n",
      " 17  fraudulent           17880 non-null  int64 \n",
      "dtypes: int64(5), object(13)\n",
      "memory usage: 2.5+ MB\n"
     ]
    }
   ],
   "source": [
    "df.info()"
   ]
  },
  {
   "cell_type": "markdown",
   "metadata": {},
   "source": [
    "Let's take a look at the class' distribution."
   ]
  },
  {
   "cell_type": "code",
   "execution_count": 6,
   "metadata": {},
   "outputs": [
    {
     "name": "stdout",
     "output_type": "stream",
     "text": [
      "2 classes:\n",
      "0 (real)\n",
      "1 (fake)\n",
      "\n",
      "Class rate:\n",
      "0: 95%\n",
      "1: 5%\n",
      "\n",
      "Categorical features:\n",
      "department, telecommuting, has_company_logo, has_questions, employment_type, required_experience, required_education, industry, function\n",
      "\n",
      "String features:\n",
      "company_profile, description, requirements, benefits\n",
      "\n"
     ]
    }
   ],
   "source": [
    "classes = df['fraudulent'].value_counts().keys().to_list()\n",
    "print(f'{len(classes)} classes:\\n{classes[0]} (real)\\n{classes[1]} (fake)\\n')\n",
    "\n",
    "total_records = df.shape[0]\n",
    "real = df.loc[df['fraudulent'] == 0].count()[0]\n",
    "print(f'Class rate:\\n{classes[0]}: {round(real/total_records*100)}%\\n{classes[1]}: {round((1-real/total_records)*100)}%\\n')\n",
    "\n",
    "categorical_features = ['department', 'telecommuting', 'has_company_logo', 'has_questions', 'employment_type',\n",
    "                        'required_experience', 'required_education', 'industry', 'function']\n",
    "print(f'Categorical features:\\n{\", \".join(categorical_features)}\\n')\n",
    "\n",
    "# string_features = ['title', 'location', 'department', 'company_profile', 'description', 'requirements', 'benefits']\n",
    "string_features = ['company_profile', 'description', 'requirements', 'benefits']\n",
    "print(f'String features:\\n{\", \".join(string_features)}\\n')"
   ]
  },
  {
   "cell_type": "markdown",
   "metadata": {},
   "source": [
    "We can see a huge imbalance between the number of records which correspond to each class. This can only lead to a huge bias in favor of the real job postings, since they comprise 95% of the dataset."
   ]
  },
  {
   "cell_type": "markdown",
   "metadata": {},
   "source": [
    "Now, let's check for NULL values."
   ]
  },
  {
   "cell_type": "code",
   "execution_count": 7,
   "metadata": {},
   "outputs": [
    {
     "data": {
      "text/html": [
       "<div>\n",
       "<style scoped>\n",
       "    .dataframe tbody tr th:only-of-type {\n",
       "        vertical-align: middle;\n",
       "    }\n",
       "\n",
       "    .dataframe tbody tr th {\n",
       "        vertical-align: top;\n",
       "    }\n",
       "\n",
       "    .dataframe thead th {\n",
       "        text-align: right;\n",
       "    }\n",
       "</style>\n",
       "<table border=\"1\" class=\"dataframe\">\n",
       "  <thead>\n",
       "    <tr style=\"text-align: right;\">\n",
       "      <th></th>\n",
       "      <th>null_count</th>\n",
       "      <th>null_percentage</th>\n",
       "    </tr>\n",
       "  </thead>\n",
       "  <tbody>\n",
       "    <tr>\n",
       "      <th>job_id</th>\n",
       "      <td>0</td>\n",
       "      <td>0.00</td>\n",
       "    </tr>\n",
       "    <tr>\n",
       "      <th>title</th>\n",
       "      <td>0</td>\n",
       "      <td>0.00</td>\n",
       "    </tr>\n",
       "    <tr>\n",
       "      <th>location</th>\n",
       "      <td>346</td>\n",
       "      <td>1.94</td>\n",
       "    </tr>\n",
       "    <tr>\n",
       "      <th>department</th>\n",
       "      <td>11547</td>\n",
       "      <td>64.58</td>\n",
       "    </tr>\n",
       "    <tr>\n",
       "      <th>salary_range</th>\n",
       "      <td>15012</td>\n",
       "      <td>83.96</td>\n",
       "    </tr>\n",
       "    <tr>\n",
       "      <th>company_profile</th>\n",
       "      <td>3308</td>\n",
       "      <td>18.50</td>\n",
       "    </tr>\n",
       "    <tr>\n",
       "      <th>description</th>\n",
       "      <td>1</td>\n",
       "      <td>0.01</td>\n",
       "    </tr>\n",
       "    <tr>\n",
       "      <th>requirements</th>\n",
       "      <td>2695</td>\n",
       "      <td>15.07</td>\n",
       "    </tr>\n",
       "    <tr>\n",
       "      <th>benefits</th>\n",
       "      <td>7210</td>\n",
       "      <td>40.32</td>\n",
       "    </tr>\n",
       "    <tr>\n",
       "      <th>telecommuting</th>\n",
       "      <td>0</td>\n",
       "      <td>0.00</td>\n",
       "    </tr>\n",
       "    <tr>\n",
       "      <th>has_company_logo</th>\n",
       "      <td>0</td>\n",
       "      <td>0.00</td>\n",
       "    </tr>\n",
       "    <tr>\n",
       "      <th>has_questions</th>\n",
       "      <td>0</td>\n",
       "      <td>0.00</td>\n",
       "    </tr>\n",
       "    <tr>\n",
       "      <th>employment_type</th>\n",
       "      <td>3471</td>\n",
       "      <td>19.41</td>\n",
       "    </tr>\n",
       "    <tr>\n",
       "      <th>required_experience</th>\n",
       "      <td>7050</td>\n",
       "      <td>39.43</td>\n",
       "    </tr>\n",
       "    <tr>\n",
       "      <th>required_education</th>\n",
       "      <td>8105</td>\n",
       "      <td>45.33</td>\n",
       "    </tr>\n",
       "    <tr>\n",
       "      <th>industry</th>\n",
       "      <td>4903</td>\n",
       "      <td>27.42</td>\n",
       "    </tr>\n",
       "    <tr>\n",
       "      <th>function</th>\n",
       "      <td>6455</td>\n",
       "      <td>36.10</td>\n",
       "    </tr>\n",
       "    <tr>\n",
       "      <th>fraudulent</th>\n",
       "      <td>0</td>\n",
       "      <td>0.00</td>\n",
       "    </tr>\n",
       "  </tbody>\n",
       "</table>\n",
       "</div>"
      ],
      "text/plain": [
       "                     null_count  null_percentage\n",
       "job_id                        0             0.00\n",
       "title                         0             0.00\n",
       "location                    346             1.94\n",
       "department                11547            64.58\n",
       "salary_range              15012            83.96\n",
       "company_profile            3308            18.50\n",
       "description                   1             0.01\n",
       "requirements               2695            15.07\n",
       "benefits                   7210            40.32\n",
       "telecommuting                 0             0.00\n",
       "has_company_logo              0             0.00\n",
       "has_questions                 0             0.00\n",
       "employment_type            3471            19.41\n",
       "required_experience        7050            39.43\n",
       "required_education         8105            45.33\n",
       "industry                   4903            27.42\n",
       "function                   6455            36.10\n",
       "fraudulent                    0             0.00"
      ]
     },
     "execution_count": 7,
     "metadata": {},
     "output_type": "execute_result"
    }
   ],
   "source": [
    "pd.DataFrame({'null_count': df.isnull().sum(), 'null_percentage': round(df.isnull().sum() * 100 / df.shape[0],2)})"
   ]
  },
  {
   "cell_type": "markdown",
   "metadata": {},
   "source": [
    "We can see that a significant amount out of the 17880 records in this dataset contain NULL values for some features.\n",
    "\n",
    "For example, as far as the salary range feature is concerned, about 84% of the records are null."
   ]
  },
  {
   "cell_type": "markdown",
   "metadata": {},
   "source": [
    "Let's find the exact number of rows with at least one null value."
   ]
  },
  {
   "cell_type": "code",
   "execution_count": 8,
   "metadata": {},
   "outputs": [
    {
     "data": {
      "text/plain": [
       "17106"
      ]
     },
     "execution_count": 8,
     "metadata": {},
     "output_type": "execute_result"
    }
   ],
   "source": [
    "df.shape[0] - df.dropna().shape[0]"
   ]
  },
  {
   "cell_type": "markdown",
   "metadata": {},
   "source": [
    "We can see that a 17106 out of the 17880 records in this dataset contain NULL values for some features.\n",
    "\n",
    "This comprises nearly 96% of the data, which means that only 4% of the data, which is equal to 774 reconds, can be used as is for machine learning purposes."
   ]
  },
  {
   "cell_type": "markdown",
   "metadata": {},
   "source": [
    "## Pre-processing"
   ]
  },
  {
   "cell_type": "markdown",
   "metadata": {},
   "source": [
    "As far as the categorical features are concerned, we need to decide what to do with the missing values. We have the following 5 options:\n",
    "1. Ignore specific features, especially the ones with more than 50% null values.\n",
    "2. Replace null values with the most common value.\n",
    "3. Remove all records with null values.\n",
    "4. Develop some classifier, e.g. K Nearest Neighbors, to predict the missing values.\n",
    "5. Develop some clusterer, e.g. K-Means, to group the records and assign values on the missing ones based on the cluster.\n",
    "\n",
    "In this notebook, we are going to implement options 1 to 3."
   ]
  },
  {
   "cell_type": "markdown",
   "metadata": {},
   "source": [
    "We are going to define some functions which will help us with the text preprocessing for the string fields we are going to use in the ML thraining. This preprocessing includes:\n",
    "* Removing non-alphanumeric characters\n",
    "* Removing non-digit characters\n",
    "* Converting text to lowercase\n",
    "* Expanding contractions\n",
    "* Performing stemming\n",
    "* Performing lemmatization\n",
    "* Removing tabs and redundant whitespaces\n",
    "* Replacing empty strings, after preprocessing, with the string \"empty\""
   ]
  },
  {
   "cell_type": "code",
   "execution_count": 9,
   "metadata": {},
   "outputs": [],
   "source": [
    "# df['company_profile'].notnull()\n",
    "# if df['company_profile'][17878] is np.nan:\n",
    "#     print(df['company_profile'][17878],type(df['company_profile'][17878]),np.nan)"
   ]
  },
  {
   "cell_type": "code",
   "execution_count": 10,
   "metadata": {},
   "outputs": [
    {
     "name": "stderr",
     "output_type": "stream",
     "text": [
      "[nltk_data] Downloading package punkt to /home/user/nltk_data...\n",
      "[nltk_data]   Package punkt is already up-to-date!\n",
      "[nltk_data] Downloading package wordnet to /home/user/nltk_data...\n",
      "[nltk_data]   Package wordnet is already up-to-date!\n",
      "[nltk_data] Downloading package stopwords to /home/user/nltk_data...\n",
      "[nltk_data]   Package stopwords is already up-to-date!\n"
     ]
    }
   ],
   "source": [
    "def remove_non_alpanumeric(text):\n",
    "    \"\"\" Removes non-alphanumeric characters \"\"\"\n",
    "    text = re.sub(r'[^a-zA-Z0-9]', ' ', text)\n",
    "    return text\n",
    "\n",
    "def remove_digits(text):\n",
    "    \"\"\" Removes characters which correspond to digits \"\"\"\n",
    "    text = re.sub(r'[0-9]', ' ', text)\n",
    "    return text\n",
    "\n",
    "def expand_contractions(text, contractions_re, contractions_dict):\n",
    "    \"\"\" Replaces contractions with the full words (e.g. I'll --> I will) \"\"\"\n",
    "    def replace(match):\n",
    "        return contractions_dict[match.group(0)]\n",
    "    return contractions_re.sub(replace, text)\n",
    "\n",
    "def clean_text(text, contractions_re, contractions_dict, stopwords=None, lemmatizer=None, stemmer=None):\n",
    "    \"\"\" Preprocesses (cleans) text by performing the following operations:\n",
    "    * Removes non-alphanumeric characters\n",
    "    * Removes non-digit characters\n",
    "    * Converts text to lowercase\n",
    "    * Expands contractions\n",
    "    * Performs stemming\n",
    "    * Performs lemmatization\n",
    "    * Removes tabs and redundant whitespaces\n",
    "    * Replaces empty strings, after preprocessing, with the string \"empty\"\n",
    "    \"\"\"\n",
    "    if text and (text.lower() != 'nan') and text is not np.nan:\n",
    "        text = remove_non_alpanumeric(text)\n",
    "        text = remove_digits(text)\n",
    "        text = text.lower()\n",
    "        text = expand_contractions(text, contractions_re, contractions_dict)\n",
    "        tokens = nltk.word_tokenize(text)\n",
    "        if tokens == set():\n",
    "            print(f'The following text can not be pre-processed: {text}')\n",
    "        else:\n",
    "            if stemmer:\n",
    "                tokens = [stemmer.stem(token) for token in tokens]\n",
    "            if lemmatizer:\n",
    "                tokens = [lemmatizer.lemmatize(token) for token in tokens]\n",
    "            tokens = np.setdiff1d(np.asarray(tokens), np.asarray(stopwords))\n",
    "            text = ' '.join(tokens)\n",
    "        \n",
    "    if not (not text):\n",
    "        return text\n",
    "        \n",
    "    return 'empty'\n",
    "\n",
    "# Download NLTK tools\n",
    "nltk.download('punkt')\n",
    "nltk.download('wordnet')\n",
    "nltk.download('stopwords')\n",
    "\n",
    "# Initializes stop words, stemmer and lemmatizer\n",
    "stopwords = set(stopwords.words('english'))\n",
    "stemmer = SnowballStemmer('english')\n",
    "lemmatizer = WordNetLemmatizer()\n",
    "\n",
    "# Dictionary with contractions\n",
    "contractions_dict = {\"ain't\": \"are not\", \"'s\":\" is\", \"aren't\": \"are not\", \"can't\": \"cannot\", \"can't've\": \"cannot have\", \"‘cause\": \"because\", \n",
    "                     \"could've\": \"could have\", \"couldn't\": \"could not\", \"couldn't've\": \"could not have\", \"didn't\": \"did not\", \"doesn't\": \"does not\", \n",
    "                     \"don't\": \"do not\", \"hadn't\": \"had not\", \"hadn't've\": \"had not have\", \"hasn't\": \"has not\", \"haven't\": \"have not\", \"he'd\": \"he would\", \n",
    "                     \"he'd've\": \"he would have\", \"he'll\": \"he will\", \"he'll've\": \"he will have\", \"how'd\": \"how did\", \"how'd'y\": \"how do you\", \n",
    "                     \"how'll\": \"how will\", \"I'd\": \"I would\", \"I'd've\": \"I would have\", \"I'll\": \"I will\", \"I'll've\": \"I will have\", \"I'm\": \"I am\", \n",
    "                     \"I've\": \"I have\", \"isn't\": \"is not\", \"it'd\": \"it would\", \"it'd've\": \"it would have\", \"it'll\": \"it will\", \"it'll've\": \"it will have\", \n",
    "                     \"let's\": \"let us\", \"ma'am\": \"madam\", \"mayn't\": \"may not\", \"might've\": \"might have\", \"mightn't\": \"might not\", \"mightn't've\": \"might not have\", \n",
    "                     \"must've\": \"must have\", \"mustn't\": \"must not\", \"mustn't've\": \"must not have\", \"needn't\": \"need not\", \"needn't've\": \"need not have\", \n",
    "                     \"o'clock\": \"of the clock\", \"oughtn't\": \"ought not\", \"oughtn't've\": \"ought not have\", \"shan't\": \"shall not\", \"sha'n't\": \"shall not\", \n",
    "                     \"shan't've\": \"shall not have\", \"she'd\": \"she would\", \"she'd've\": \"she would have\", \"she'll\": \"she will\", \"she'll've\": \"she will have\", \n",
    "                     \"should've\": \"should have\", \"shouldn't\": \"should not\", \"shouldn't've\": \"should not have\", \"so've\": \"so have\", \"that'd\": \"that would\", \n",
    "                     \"that'd've\": \"that would have\", \"there'd\": \"there would\", \"there'd've\": \"there would have\", \"they'd\": \"they would\", \n",
    "                     \"they'd've\": \"they would have\",\"they'll\": \"they will\", \"they'll've\": \"they will have\", \"they're\": \"they are\", \"they've\": \"they have\", \n",
    "                     \"to've\": \"to have\", \"wasn't\": \"was not\", \"we'd\": \"we would\", \"we'd've\": \"we would have\", \"we'll\": \"we will\", \"we'll've\": \"we will have\", \n",
    "                     \"we're\": \"we are\", \"we've\": \"we have\", \"weren't\": \"were not\",\"what'll\": \"what will\", \"what'll've\": \"what will have\", \"what're\": \"what are\", \n",
    "                     \"what've\": \"what have\", \"when've\": \"when have\", \"where'd\": \"where did\", \"where've\": \"where have\", \"who'll\": \"who will\", \n",
    "                     \"who'll've\": \"who will have\", \"who've\": \"who have\", \"why've\": \"why have\", \"will've\": \"will have\", \"won't\": \"will not\", \n",
    "                     \"won't've\": \"will not have\", \"would've\": \"would have\", \"wouldn't\": \"would not\", \"wouldn't've\": \"would not have\", \"y'all\": \"you all\", \n",
    "                     \"y'all'd\": \"you all would\", \"y'all'd've\": \"you all would have\", \"y'all're\": \"you all are\", \"y'all've\": \"you all have\", \"you'd\": \"you would\", \n",
    "                     \"you'd've\": \"you would have\", \"you'll\": \"you will\", \"you'll've\": \"you will have\", \"you're\": \"you are\", \"you've\": \"you have\"}\n",
    "\n",
    "# Regular expression to identify contractions\n",
    "contractions_re = re.compile('(%s)'%'|'.join(contractions_dict.keys()))"
   ]
  },
  {
   "cell_type": "markdown",
   "metadata": {},
   "source": [
    "Now, we are going to implement some functions for applying transformations on the dataframe. These transformations include:\n",
    "* Replacing null values with the most common value in specified fields\n",
    "* Transforming categorical string fields to numerical\n",
    "* Applying string preprocessing to the specified fields"
   ]
  },
  {
   "cell_type": "code",
   "execution_count": 11,
   "metadata": {},
   "outputs": [],
   "source": [
    "def cat2num(df, categorical_features):\n",
    "    df_new = df.copy()\n",
    "    \n",
    "    for c in categorical_features:\n",
    "        if df_new[c].dtype != np.int64:\n",
    "            df_new.loc[:,[c]] = LabelEncoder().fit_transform(df_new[c].astype(\"category\").cat.codes)\n",
    "            df_new[c].replace(0, np.nan, inplace=True)\n",
    "    \n",
    "    return df_new\n",
    "\n",
    "def replace_null(df, categorical_features):\n",
    "    \"\"\" Replaces null values with the most common value in the respective column \"\"\"\n",
    "    df_new = df.copy()\n",
    "    \n",
    "    for c in categorical_features:        \n",
    "        df_new.loc[df_new['fraudulent'] == 0, [c]] = df_new.loc[df_new['fraudulent'] == 0, [c]].fillna(df_new.loc[df_new['fraudulent'] == 0, c].mode()[0])\n",
    "        df_new.loc[df_new['fraudulent'] == 1, [c]] = df_new.loc[df_new['fraudulent'] == 1, [c]].fillna(df_new.loc[df_new['fraudulent'] == 1, c].mode()[0])\n",
    "    \n",
    "    return df_new\n",
    "\n",
    "def clean_strings(df, string_features):\n",
    "    \"\"\" Applies the text preprocessing function to the dataframe features that are contained in string_features list \"\"\"\n",
    "    df_new = df.copy()\n",
    "    \n",
    "    for c in string_features:\n",
    "        df_new.loc[:,[c]] = df_new[df_new[c].astype(str) != 'nan'][c].apply(lambda x: clean_text(str(x), contractions_re, contractions_dict, stopwords, lemmatizer)).astype(str)\n",
    "    \n",
    "    return df_new"
   ]
  },
  {
   "cell_type": "markdown",
   "metadata": {},
   "source": [
    "We can convert categorical features of string type to integer type by emumerating the values of these features."
   ]
  },
  {
   "cell_type": "code",
   "execution_count": 12,
   "metadata": {},
   "outputs": [
    {
     "name": "stdout",
     "output_type": "stream",
     "text": [
      "<class 'pandas.core.frame.DataFrame'>\n",
      "RangeIndex: 17880 entries, 0 to 17879\n",
      "Data columns (total 18 columns):\n",
      " #   Column               Non-Null Count  Dtype  \n",
      "---  ------               --------------  -----  \n",
      " 0   job_id               17880 non-null  int64  \n",
      " 1   title                17880 non-null  object \n",
      " 2   location             17534 non-null  object \n",
      " 3   department           6333 non-null   float64\n",
      " 4   salary_range         2868 non-null   object \n",
      " 5   company_profile      14572 non-null  object \n",
      " 6   description          17879 non-null  object \n",
      " 7   requirements         15185 non-null  object \n",
      " 8   benefits             10670 non-null  object \n",
      " 9   telecommuting        17880 non-null  int64  \n",
      " 10  has_company_logo     17880 non-null  int64  \n",
      " 11  has_questions        17880 non-null  int64  \n",
      " 12  employment_type      14409 non-null  float64\n",
      " 13  required_experience  10830 non-null  float64\n",
      " 14  required_education   9775 non-null   float64\n",
      " 15  industry             12977 non-null  float64\n",
      " 16  function             11425 non-null  float64\n",
      " 17  fraudulent           17880 non-null  int64  \n",
      "dtypes: float64(6), int64(5), object(7)\n",
      "memory usage: 2.5+ MB\n"
     ]
    }
   ],
   "source": [
    "df = cat2num(df, categorical_features)\n",
    "\n",
    "df.info()"
   ]
  },
  {
   "cell_type": "markdown",
   "metadata": {},
   "source": [
    "## Experimentation"
   ]
  },
  {
   "cell_type": "markdown",
   "metadata": {},
   "source": [
    "The algorithms we are going to evaluate for ML are:\n",
    "1. Gaussian Naive Bayes\n",
    "2. Nearest Centroid\n",
    "3. Preceptron\n",
    "4. Decision Trees\n",
    "5. Decision Trees with Bagging through BaggingClassifier\n",
    "6. Decision Trees with Boosting through AdaBoost-SAME classifier\n",
    "7. Stochastic Gradient Descent\n",
    "8. Stochastic Gradient Descent with Bagging through BaggingClassifier\n",
    "9. Stochastic Gradient Descent with Boosting through AdaBoost-SAME classifier\n",
    "10. A custom simple sequential deep learning model"
   ]
  },
  {
   "cell_type": "markdown",
   "metadata": {},
   "source": [
    "We are going to define a function through which we can train a Deep Neural Network for classification."
   ]
  },
  {
   "cell_type": "code",
   "execution_count": 13,
   "metadata": {},
   "outputs": [],
   "source": [
    "def build_model(X, y, activation=relu, units=[32], dropout_rate=0.1, learning_rate=0.01):\n",
    "    \"\"\"\n",
    "    Build a Neural Network model based on the data and the parameters\n",
    "    \"\"\"\n",
    "    # Model creation\n",
    "    model = Sequential()\n",
    "    \n",
    "    # Input layer\n",
    "    model.add(Input(X.shape[1:]))\n",
    "    \n",
    "    # Dense (intermediate) layers\n",
    "    for i in range(len(units)):\n",
    "        model.add(Dense(units[i], activation=activation))\n",
    "    \n",
    "    # Output layer\n",
    "    model.add(Dense(y.shape[1], activation=softmax))\n",
    "\n",
    "    # Model compilation and description\n",
    "    model.compile(optimizer=SGD(learning_rate=learning_rate), \n",
    "                  loss='categorical_crossentropy', \n",
    "                  metrics=['accuracy'])\n",
    "    model.summary()\n",
    "    \n",
    "    return model"
   ]
  },
  {
   "cell_type": "markdown",
   "metadata": {},
   "source": [
    "Now we define a function through which we are going to train and evaluate the classifier of our choice."
   ]
  },
  {
   "cell_type": "code",
   "execution_count": 14,
   "metadata": {},
   "outputs": [],
   "source": [
    "def evaluate_classifier(classifier, X_train, y_train, X_valid, y_valid):\n",
    "    \"\"\" Trains the selected classifier on the training data, performs prediction on the validation data and returns the scores for al classes \"\"\"\n",
    "    # fit the training data on the classifier\n",
    "    classifier.fit(X_train, y_train)\n",
    "    \n",
    "    # predict the labels on validation data\n",
    "    y_pred = classifier.predict(X_valid).round()\n",
    "    \n",
    "    # gather scores\n",
    "    scores = classification_report(y_valid, y_pred, zero_division=0)\n",
    "    \n",
    "    return scores"
   ]
  },
  {
   "cell_type": "markdown",
   "metadata": {},
   "source": [
    "The features we are going to use for training the ML models:\n",
    "1. The categorical features, converted from string to numeric type when necessary\n",
    "2. The string features, for which we use TF-IDF as well as binary vectors which show whether some word(s) exist in the text"
   ]
  },
  {
   "cell_type": "markdown",
   "metadata": {},
   "source": [
    "### Experiment #1: Ignore all features (columns) with null values."
   ]
  },
  {
   "cell_type": "markdown",
   "metadata": {},
   "source": [
    "Let's remove all columns which contains null values. This way neither the class distribition nor the number of records changes."
   ]
  },
  {
   "cell_type": "code",
   "execution_count": 15,
   "metadata": {},
   "outputs": [
    {
     "name": "stdout",
     "output_type": "stream",
     "text": [
      "<class 'pandas.core.frame.DataFrame'>\n",
      "RangeIndex: 17880 entries, 0 to 17879\n",
      "Data columns (total 6 columns):\n",
      " #   Column            Non-Null Count  Dtype \n",
      "---  ------            --------------  ----- \n",
      " 0   job_id            17880 non-null  int64 \n",
      " 1   title             17880 non-null  object\n",
      " 2   telecommuting     17880 non-null  int64 \n",
      " 3   has_company_logo  17880 non-null  int64 \n",
      " 4   has_questions     17880 non-null  int64 \n",
      " 5   fraudulent        17880 non-null  int64 \n",
      "dtypes: int64(5), object(1)\n",
      "memory usage: 838.2+ KB\n"
     ]
    }
   ],
   "source": [
    "df_new = df.dropna(how='any', axis=1)\n",
    "df_new.info()"
   ]
  },
  {
   "cell_type": "markdown",
   "metadata": {},
   "source": [
    "Let's perform the evaluation based on the features that are left after having dropped the columns before."
   ]
  },
  {
   "cell_type": "code",
   "execution_count": 16,
   "metadata": {},
   "outputs": [
    {
     "name": "stdout",
     "output_type": "stream",
     "text": [
      "Gaussian Naive Bayes scores:\n",
      "              precision    recall  f1-score   support\n",
      "\n",
      "           0       0.95      0.96      0.95      3405\n",
      "           1       0.06      0.05      0.05       171\n",
      "\n",
      "    accuracy                           0.91      3576\n",
      "   macro avg       0.50      0.50      0.50      3576\n",
      "weighted avg       0.91      0.91      0.91      3576\n",
      "\n",
      "\n",
      "Nearest Centroid scores:\n",
      "              precision    recall  f1-score   support\n",
      "\n",
      "           0       0.98      0.81      0.89      3405\n",
      "           1       0.15      0.66      0.24       171\n",
      "\n",
      "    accuracy                           0.80      3576\n",
      "   macro avg       0.56      0.74      0.56      3576\n",
      "weighted avg       0.94      0.80      0.86      3576\n",
      "\n",
      "\n",
      "Perceptron scores:\n",
      "              precision    recall  f1-score   support\n",
      "\n",
      "           0       0.95      1.00      0.98      3405\n",
      "           1       0.00      0.00      0.00       171\n",
      "\n",
      "    accuracy                           0.95      3576\n",
      "   macro avg       0.48      0.50      0.49      3576\n",
      "weighted avg       0.91      0.95      0.93      3576\n",
      "\n",
      "\n",
      "\n",
      "Decision Tree classifier scores\n",
      "              precision    recall  f1-score   support\n",
      "\n",
      "           0       0.95      1.00      0.98      3405\n",
      "           1       0.00      0.00      0.00       171\n",
      "\n",
      "    accuracy                           0.95      3576\n",
      "   macro avg       0.48      0.50      0.49      3576\n",
      "weighted avg       0.91      0.95      0.93      3576\n",
      "\n",
      "\n",
      "Bagging classifier with Decision Tree classifier scores\n",
      "              precision    recall  f1-score   support\n",
      "\n",
      "           0       0.95      1.00      0.98      3405\n",
      "           1       0.00      0.00      0.00       171\n",
      "\n",
      "    accuracy                           0.95      3576\n",
      "   macro avg       0.48      0.50      0.49      3576\n",
      "weighted avg       0.91      0.95      0.93      3576\n",
      "\n",
      "\n",
      "AdaBoost classifier with Decision Tree classifier scores\n",
      "              precision    recall  f1-score   support\n",
      "\n",
      "           0       0.95      1.00      0.98      3405\n",
      "           1       0.00      0.00      0.00       171\n",
      "\n",
      "    accuracy                           0.95      3576\n",
      "   macro avg       0.48      0.50      0.49      3576\n",
      "weighted avg       0.91      0.95      0.93      3576\n",
      "\n",
      "\n",
      "\n",
      "Stochastic Gradient Descent classifier scores\n",
      "              precision    recall  f1-score   support\n",
      "\n",
      "           0       0.95      1.00      0.98      3405\n",
      "           1       0.00      0.00      0.00       171\n",
      "\n",
      "    accuracy                           0.95      3576\n",
      "   macro avg       0.48      0.50      0.49      3576\n",
      "weighted avg       0.91      0.95      0.93      3576\n",
      "\n",
      "\n",
      "Bagging classifier with Stochastic Gradient Descent classifier scores\n",
      "              precision    recall  f1-score   support\n",
      "\n",
      "           0       0.95      1.00      0.98      3405\n",
      "           1       0.00      0.00      0.00       171\n",
      "\n",
      "    accuracy                           0.95      3576\n",
      "   macro avg       0.48      0.50      0.49      3576\n",
      "weighted avg       0.91      0.95      0.93      3576\n",
      "\n",
      "\n",
      "AdaBoost classifier with Stochastic Gradient Descent classifier scores\n",
      "              precision    recall  f1-score   support\n",
      "\n",
      "           0       0.95      1.00      0.98      3405\n",
      "           1       0.00      0.00      0.00       171\n",
      "\n",
      "    accuracy                           0.95      3576\n",
      "   macro avg       0.48      0.50      0.49      3576\n",
      "weighted avg       0.91      0.95      0.93      3576\n",
      "\n"
     ]
    }
   ],
   "source": [
    "# train features and labels\n",
    "X = df_new[['telecommuting', 'has_company_logo', 'has_questions']].to_numpy()\n",
    "y = df_new['fraudulent'].to_numpy()\n",
    "\n",
    "# split the dataframe into training and testing sets\n",
    "X_train, X_valid, y_train, y_valid = train_test_split(X, y, test_size=0.2, random_state=13)\n",
    "\n",
    "\n",
    "# use Gaussian Naive Bayes classifier\n",
    "clf = GaussianNB()\n",
    "scores = evaluate_classifier(clf, X_train, y_train, X_valid, y_valid)\n",
    "print('Gaussian Naive Bayes scores:')\n",
    "print(scores)\n",
    "\n",
    "print('')\n",
    "\n",
    "# use Nearest Centroid classifier\n",
    "clf = NearestCentroid()\n",
    "scores = evaluate_classifier(clf, X_train, y_train, X_valid, y_valid)\n",
    "print('Nearest Centroid scores:')\n",
    "print(scores)\n",
    "\n",
    "print('')\n",
    "\n",
    "# use Perceptron classifier\n",
    "clf = Perceptron()\n",
    "scores = evaluate_classifier(clf, X_train, y_train, X_valid, y_valid)\n",
    "print('Perceptron scores:')\n",
    "print(scores)\n",
    "\n",
    "\n",
    "print('\\n')\n",
    "\n",
    "\n",
    "# use Decision Trees classifier\n",
    "clf = DecisionTreeClassifier()\n",
    "scores = evaluate_classifier(clf, X_train, y_train, X_valid, y_valid)\n",
    "print('Decision Tree classifier scores')\n",
    "print(scores)\n",
    "\n",
    "print('')\n",
    "\n",
    "# use Bagging with Decision Trees classifier\n",
    "clf = BaggingClassifier(DecisionTreeClassifier())\n",
    "scores = evaluate_classifier(clf, X_train, y_train, X_valid, y_valid)\n",
    "print('Bagging classifier with Decision Tree classifier scores')\n",
    "print(scores)\n",
    "\n",
    "print('')\n",
    "\n",
    "# use Boosting with Decision Trees classifier\n",
    "clf = AdaBoostClassifier(DecisionTreeClassifier())\n",
    "scores = evaluate_classifier(clf, X_train, y_train, X_valid, y_valid)\n",
    "print('AdaBoost classifier with Decision Tree classifier scores')\n",
    "print(scores)\n",
    "\n",
    "\n",
    "print('\\n')\n",
    "\n",
    "\n",
    "# use Stochastic Gradient Descent classifier\n",
    "clf = SGDClassifier()\n",
    "scores = evaluate_classifier(clf, X_train, y_train, X_valid, y_valid)\n",
    "print('Stochastic Gradient Descent classifier scores')\n",
    "print(scores)\n",
    "\n",
    "print('')\n",
    "\n",
    "# use Bagging with Gradient Descent classifier\n",
    "clf = BaggingClassifier(SGDClassifier())\n",
    "scores = evaluate_classifier(clf, X_train, y_train, X_valid, y_valid)\n",
    "print('Bagging classifier with Stochastic Gradient Descent classifier scores')\n",
    "print(scores)\n",
    "\n",
    "print('')\n",
    "\n",
    "# use Boosting with Gradient Descent classifier\n",
    "clf = AdaBoostClassifier(SGDClassifier(), algorithm='SAMME')\n",
    "scores = evaluate_classifier(clf, X_train, y_train, X_valid, y_valid)\n",
    "print('AdaBoost classifier with Stochastic Gradient Descent classifier scores')\n",
    "print(scores)"
   ]
  },
  {
   "cell_type": "markdown",
   "metadata": {},
   "source": [
    "Let's see how a simple deep learning model performs."
   ]
  },
  {
   "cell_type": "code",
   "execution_count": 17,
   "metadata": {},
   "outputs": [],
   "source": [
    "# Labels --> one-hot encodings\n",
    "y_train = to_categorical(y_train.reshape([-1, 1]))\n",
    "y_valid = to_categorical(y_valid.reshape([-1, 1]))"
   ]
  },
  {
   "cell_type": "code",
   "execution_count": 18,
   "metadata": {},
   "outputs": [],
   "source": [
    "dropout_rate=0.3\n",
    "learning_rate=0.1\n",
    "patience=1\n",
    "batch_size=32\n",
    "epochs=20\n",
    "units=[256, 128, 2]"
   ]
  },
  {
   "cell_type": "code",
   "execution_count": 19,
   "metadata": {},
   "outputs": [
    {
     "name": "stdout",
     "output_type": "stream",
     "text": [
      "Model: \"sequential\"\n",
      "_________________________________________________________________\n",
      "Layer (type)                 Output Shape              Param #   \n",
      "=================================================================\n",
      "dense (Dense)                (None, 256)               1024      \n",
      "_________________________________________________________________\n",
      "dense_1 (Dense)              (None, 128)               32896     \n",
      "_________________________________________________________________\n",
      "dense_2 (Dense)              (None, 2)                 258       \n",
      "_________________________________________________________________\n",
      "dense_3 (Dense)              (None, 2)                 6         \n",
      "=================================================================\n",
      "Total params: 34,184\n",
      "Trainable params: 34,184\n",
      "Non-trainable params: 0\n",
      "_________________________________________________________________\n"
     ]
    }
   ],
   "source": [
    "model = build_model(X_train, y_train, relu, units, dropout_rate, learning_rate)"
   ]
  },
  {
   "cell_type": "markdown",
   "metadata": {},
   "source": [
    "Let's train the model."
   ]
  },
  {
   "cell_type": "code",
   "execution_count": 20,
   "metadata": {
    "tags": []
   },
   "outputs": [
    {
     "name": "stdout",
     "output_type": "stream",
     "text": [
      "Epoch 1/20\n",
      "447/447 [==============================] - 2s 5ms/step - loss: 0.1853 - accuracy: 0.9514 - val_loss: 0.1676 - val_accuracy: 0.9522\n",
      "Epoch 2/20\n",
      "447/447 [==============================] - 2s 4ms/step - loss: 0.1667 - accuracy: 0.9514 - val_loss: 0.1700 - val_accuracy: 0.9522\n"
     ]
    },
    {
     "data": {
      "text/plain": [
       "<tensorflow.python.keras.callbacks.History at 0x7f990f134630>"
      ]
     },
     "execution_count": 20,
     "metadata": {},
     "output_type": "execute_result"
    }
   ],
   "source": [
    "early_stopping = EarlyStopping(monitor='val_loss', mode='min', patience=patience, restore_best_weights=True)\n",
    "\n",
    "model.fit(x=X_train, y=y_train, \n",
    "          validation_data=(X_valid, y_valid), \n",
    "          batch_size=batch_size, epochs=epochs, \n",
    "          callbacks=[early_stopping])"
   ]
  },
  {
   "cell_type": "markdown",
   "metadata": {},
   "source": [
    "Let's plot the losses."
   ]
  },
  {
   "cell_type": "code",
   "execution_count": 21,
   "metadata": {},
   "outputs": [
    {
     "data": {
      "text/plain": [
       "<AxesSubplot:>"
      ]
     },
     "execution_count": 21,
     "metadata": {},
     "output_type": "execute_result"
    },
    {
     "data": {
      "image/png": "[encoded data removed]",
      "text/plain": [
       "<Figure size 720x576 with 1 Axes>"
      ]
     },
     "metadata": {
      "needs_background": "light"
     },
     "output_type": "display_data"
    }
   ],
   "source": [
    "losses = pd.DataFrame(model.history.history)\n",
    "losses.plot(figsize=(10,8))"
   ]
  },
  {
   "cell_type": "markdown",
   "metadata": {},
   "source": [
    "Let's evaluate our model."
   ]
  },
  {
   "cell_type": "code",
   "execution_count": 22,
   "metadata": {},
   "outputs": [
    {
     "name": "stdout",
     "output_type": "stream",
     "text": [
      "112/112 [==============================] - 0s 4ms/step - loss: 0.1676 - accuracy: 0.9522\n"
     ]
    },
    {
     "data": {
      "text/plain": [
       "[0.16762368381023407, 0.9521812200546265]"
      ]
     },
     "execution_count": 22,
     "metadata": {},
     "output_type": "execute_result"
    }
   ],
   "source": [
    "model.evaluate(X_valid, y_valid)"
   ]
  },
  {
   "cell_type": "code",
   "execution_count": 23,
   "metadata": {},
   "outputs": [
    {
     "name": "stdout",
     "output_type": "stream",
     "text": [
      "              precision    recall  f1-score   support\n",
      "\n",
      "           0       0.95      1.00      0.98      3405\n",
      "           1       0.00      0.00      0.00       171\n",
      "\n",
      "   micro avg       0.95      0.95      0.95      3576\n",
      "   macro avg       0.48      0.50      0.49      3576\n",
      "weighted avg       0.91      0.95      0.93      3576\n",
      " samples avg       0.95      0.95      0.95      3576\n",
      "\n"
     ]
    }
   ],
   "source": [
    "# predict the labels on validation dataset\n",
    "y_pred = model.predict(X_valid).round()\n",
    "\n",
    "# gather scores\n",
    "scores = classification_report(y_valid, y_pred, zero_division=0)\n",
    "print(scores)"
   ]
  },
  {
   "cell_type": "markdown",
   "metadata": {},
   "source": [
    "The deep learning model has the exact same evaluation results as the other simple classifiers."
   ]
  },
  {
   "cell_type": "markdown",
   "metadata": {},
   "source": [
    "### Experiment #2: Ignore features (columns) with more than 50% null values and for the remaining columns replace null values with the most common value."
   ]
  },
  {
   "cell_type": "markdown",
   "metadata": {},
   "source": [
    "Let's specify the threshold and remove all columns whose null values comprise more than 50% of the entries."
   ]
  },
  {
   "cell_type": "code",
   "execution_count": 24,
   "metadata": {},
   "outputs": [
    {
     "name": "stdout",
     "output_type": "stream",
     "text": [
      "<class 'pandas.core.frame.DataFrame'>\n",
      "RangeIndex: 17880 entries, 0 to 17879\n",
      "Data columns (total 16 columns):\n",
      " #   Column               Non-Null Count  Dtype  \n",
      "---  ------               --------------  -----  \n",
      " 0   job_id               17880 non-null  int64  \n",
      " 1   title                17880 non-null  object \n",
      " 2   location             17534 non-null  object \n",
      " 3   company_profile      14572 non-null  object \n",
      " 4   description          17879 non-null  object \n",
      " 5   requirements         15185 non-null  object \n",
      " 6   benefits             10670 non-null  object \n",
      " 7   telecommuting        17880 non-null  int64  \n",
      " 8   has_company_logo     17880 non-null  int64  \n",
      " 9   has_questions        17880 non-null  int64  \n",
      " 10  employment_type      14409 non-null  float64\n",
      " 11  required_experience  10830 non-null  float64\n",
      " 12  required_education   9775 non-null   float64\n",
      " 13  industry             12977 non-null  float64\n",
      " 14  function             11425 non-null  float64\n",
      " 15  fraudulent           17880 non-null  int64  \n",
      "dtypes: float64(5), int64(5), object(6)\n",
      "memory usage: 2.2+ MB\n"
     ]
    }
   ],
   "source": [
    "threshold = 0.5\n",
    "df_new = df.dropna(thresh=df.shape[0]*(1.0-threshold), how='any', axis=1)\n",
    "df_new.info()"
   ]
  },
  {
   "cell_type": "markdown",
   "metadata": {},
   "source": [
    "Let's replace null values with the most common value for the categorical features than remained."
   ]
  },
  {
   "cell_type": "code",
   "execution_count": 25,
   "metadata": {},
   "outputs": [
    {
     "name": "stdout",
     "output_type": "stream",
     "text": [
      "<class 'pandas.core.frame.DataFrame'>\n",
      "RangeIndex: 17880 entries, 0 to 17879\n",
      "Data columns (total 16 columns):\n",
      " #   Column               Non-Null Count  Dtype  \n",
      "---  ------               --------------  -----  \n",
      " 0   job_id               17880 non-null  int64  \n",
      " 1   title                17880 non-null  object \n",
      " 2   location             17534 non-null  object \n",
      " 3   company_profile      14572 non-null  object \n",
      " 4   description          17879 non-null  object \n",
      " 5   requirements         15185 non-null  object \n",
      " 6   benefits             10670 non-null  object \n",
      " 7   telecommuting        17880 non-null  int64  \n",
      " 8   has_company_logo     17880 non-null  int64  \n",
      " 9   has_questions        17880 non-null  int64  \n",
      " 10  employment_type      17880 non-null  float64\n",
      " 11  required_experience  17880 non-null  float64\n",
      " 12  required_education   17880 non-null  float64\n",
      " 13  industry             17880 non-null  float64\n",
      " 14  function             17880 non-null  float64\n",
      " 15  fraudulent           17880 non-null  int64  \n",
      "dtypes: float64(5), int64(5), object(6)\n",
      "memory usage: 2.2+ MB\n"
     ]
    }
   ],
   "source": [
    "df_new = replace_null(df_new, set(categorical_features)-set(['department']))\n",
    "df_new.info()"
   ]
  },
  {
   "cell_type": "markdown",
   "metadata": {},
   "source": [
    "Let's drop the records with null values in the string features we are going to use for training and then perform some text preprocessing on these strings."
   ]
  },
  {
   "cell_type": "code",
   "execution_count": 26,
   "metadata": {},
   "outputs": [
    {
     "name": "stdout",
     "output_type": "stream",
     "text": [
      "<class 'pandas.core.frame.DataFrame'>\n",
      "Int64Index: 8846 entries, 1 to 17876\n",
      "Data columns (total 16 columns):\n",
      " #   Column               Non-Null Count  Dtype  \n",
      "---  ------               --------------  -----  \n",
      " 0   job_id               8846 non-null   int64  \n",
      " 1   title                8846 non-null   object \n",
      " 2   location             8784 non-null   object \n",
      " 3   company_profile      8846 non-null   object \n",
      " 4   description          8846 non-null   object \n",
      " 5   requirements         8846 non-null   object \n",
      " 6   benefits             8846 non-null   object \n",
      " 7   telecommuting        8846 non-null   int64  \n",
      " 8   has_company_logo     8846 non-null   int64  \n",
      " 9   has_questions        8846 non-null   int64  \n",
      " 10  employment_type      8846 non-null   float64\n",
      " 11  required_experience  8846 non-null   float64\n",
      " 12  required_education   8846 non-null   float64\n",
      " 13  industry             8846 non-null   float64\n",
      " 14  function             8846 non-null   float64\n",
      " 15  fraudulent           8846 non-null   int64  \n",
      "dtypes: float64(5), int64(5), object(6)\n",
      "memory usage: 1.1+ MB\n"
     ]
    }
   ],
   "source": [
    "df_new.dropna(how='any', subset=string_features, axis=0, inplace=True)\n",
    "df_new = clean_strings(df_new, string_features)\n",
    "df_new.info()"
   ]
  },
  {
   "cell_type": "markdown",
   "metadata": {},
   "source": [
    "Let's check the class distribution after dropping all these records."
   ]
  },
  {
   "cell_type": "code",
   "execution_count": 27,
   "metadata": {},
   "outputs": [
    {
     "name": "stdout",
     "output_type": "stream",
     "text": [
      "8846 records\n",
      "\n",
      "2 classes:\n",
      "0 (real)\n",
      "1 (fake)\n",
      "\n",
      "Class rate:\n",
      "0: 98%\n",
      "1: 2%\n",
      "\n"
     ]
    }
   ],
   "source": [
    "total_records = df_new.shape[0]\n",
    "print(f'{total_records} records\\n')\n",
    "\n",
    "classes = df_new['fraudulent'].value_counts().keys().to_list()\n",
    "print(f'{len(classes)} classes:\\n{classes[0]} (real)\\n{classes[1]} (fake)\\n')\n",
    "\n",
    "total_records = df_new.shape[0]\n",
    "real = df_new.loc[df_new['fraudulent'] == 0].count()[0]\n",
    "print(f'Class rate:\\n{classes[0]}: {round(real/total_records*100)}%\\n{classes[1]}: {round((1-real/total_records)*100)}%\\n')"
   ]
  },
  {
   "cell_type": "markdown",
   "metadata": {},
   "source": [
    "We can see that we are left with about half the records from the original dataset and that the class imbalance situtation became even worse. From 95% - 5% it became 98% - 2%.\n",
    "\n",
    "Based on this, we can not expect any reliable and unbiased results from the classification process.\n",
    "\n",
    "Let's see this for ourselves."
   ]
  },
  {
   "cell_type": "code",
   "execution_count": 28,
   "metadata": {},
   "outputs": [
    {
     "name": "stdout",
     "output_type": "stream",
     "text": [
      "Gaussian Naive Bayes scores:\n",
      "              precision    recall  f1-score   support\n",
      "\n",
      "           0       1.00      1.00      1.00      1728\n",
      "           1       1.00      0.83      0.91        42\n",
      "\n",
      "    accuracy                           1.00      1770\n",
      "   macro avg       1.00      0.92      0.95      1770\n",
      "weighted avg       1.00      1.00      1.00      1770\n",
      "\n",
      "\n",
      "Nearest Centroid scores:\n",
      "              precision    recall  f1-score   support\n",
      "\n",
      "           0       0.99      0.76      0.86      1728\n",
      "           1       0.06      0.60      0.10        42\n",
      "\n",
      "    accuracy                           0.75      1770\n",
      "   macro avg       0.52      0.68      0.48      1770\n",
      "weighted avg       0.97      0.75      0.84      1770\n",
      "\n",
      "\n",
      "Perceptron scores:\n",
      "              precision    recall  f1-score   support\n",
      "\n",
      "           0       1.00      1.00      1.00      1728\n",
      "           1       0.95      0.95      0.95        42\n",
      "\n",
      "    accuracy                           1.00      1770\n",
      "   macro avg       0.98      0.98      0.98      1770\n",
      "weighted avg       1.00      1.00      1.00      1770\n",
      "\n",
      "\n",
      "\n",
      "Decision Tree classifier scores\n",
      "              precision    recall  f1-score   support\n",
      "\n",
      "           0       1.00      1.00      1.00      1728\n",
      "           1       0.89      0.95      0.92        42\n",
      "\n",
      "    accuracy                           1.00      1770\n",
      "   macro avg       0.94      0.97      0.96      1770\n",
      "weighted avg       1.00      1.00      1.00      1770\n",
      "\n",
      "\n",
      "Bagging classifier with Decision Tree classifier scores\n",
      "              precision    recall  f1-score   support\n",
      "\n",
      "           0       1.00      1.00      1.00      1728\n",
      "           1       1.00      0.90      0.95        42\n",
      "\n",
      "    accuracy                           1.00      1770\n",
      "   macro avg       1.00      0.95      0.97      1770\n",
      "weighted avg       1.00      1.00      1.00      1770\n",
      "\n",
      "\n",
      "AdaBoost classifier with Decision Tree classifier scores\n",
      "              precision    recall  f1-score   support\n",
      "\n",
      "           0       1.00      1.00      1.00      1728\n",
      "           1       0.89      0.95      0.92        42\n",
      "\n",
      "    accuracy                           1.00      1770\n",
      "   macro avg       0.94      0.97      0.96      1770\n",
      "weighted avg       1.00      1.00      1.00      1770\n",
      "\n",
      "\n",
      "\n",
      "Stochastic Gradient Descent classifier scores\n",
      "              precision    recall  f1-score   support\n",
      "\n",
      "           0       1.00      1.00      1.00      1728\n",
      "           1       1.00      0.95      0.98        42\n",
      "\n",
      "    accuracy                           1.00      1770\n",
      "   macro avg       1.00      0.98      0.99      1770\n",
      "weighted avg       1.00      1.00      1.00      1770\n",
      "\n",
      "\n",
      "Bagging classifier with Stochastic Gradient Descent classifier scores\n",
      "              precision    recall  f1-score   support\n",
      "\n",
      "           0       1.00      1.00      1.00      1728\n",
      "           1       1.00      0.83      0.91        42\n",
      "\n",
      "    accuracy                           1.00      1770\n",
      "   macro avg       1.00      0.92      0.95      1770\n",
      "weighted avg       1.00      1.00      1.00      1770\n",
      "\n",
      "\n",
      "AdaBoost classifier with Stochastic Gradient Descent classifier scores\n",
      "              precision    recall  f1-score   support\n",
      "\n",
      "           0       0.99      1.00      1.00      1728\n",
      "           1       1.00      0.64      0.78        42\n",
      "\n",
      "    accuracy                           0.99      1770\n",
      "   macro avg       1.00      0.82      0.89      1770\n",
      "weighted avg       0.99      0.99      0.99      1770\n",
      "\n"
     ]
    }
   ],
   "source": [
    "transformer = FeatureUnion([\n",
    "                ('profile_tfidf',\n",
    "                  Pipeline([('extract_text', FunctionTransformer(lambda x: x['company_profile'], validate=False)),\n",
    "                            ('tfidf', TfidfVectorizer(token_pattern=r'\\w{1,}', ngram_range=(2, 3), max_df=0.34, min_df=0.001)),\n",
    "#                             ('scaler', StandardScaler(with_mean=False))\n",
    "                           ])),\n",
    "                ('profile_count',\n",
    "                  Pipeline([('extract_text', FunctionTransformer(lambda x: x['company_profile'], validate=False)),\n",
    "                            ('count', CountVectorizer(token_pattern=r'\\w{1,}', ngram_range=(2, 3), max_df=0.34, min_df=0.001, binary=True)),\n",
    "#                             ('scaler', StandardScaler(with_mean=False))\n",
    "                           ])),\n",
    "                ('description_tfidf',\n",
    "                  Pipeline([('extract_text', FunctionTransformer(lambda x: x['description'], validate=False)),\n",
    "                            ('tfidf', TfidfVectorizer(token_pattern=r'\\w{1,}', ngram_range=(2, 3), max_df=0.34, min_df=0.001)),\n",
    "#                             ('scaler', StandardScaler(with_mean=False))\n",
    "                           ])),\n",
    "                ('description_count',\n",
    "                  Pipeline([('extract_text', FunctionTransformer(lambda x: x['description'], validate=False)),\n",
    "                            ('count', CountVectorizer(token_pattern=r'\\w{1,}', ngram_range=(2, 3), max_df=0.34, min_df=0.001, binary=True)),\n",
    "#                             ('scaler', StandardScaler(with_mean=False))\n",
    "                           ])),\n",
    "                ('requirements_tfidf', \n",
    "                  Pipeline([('extract_text', FunctionTransformer(lambda x: x['requirements'], validate=False)),\n",
    "                            ('tfidf', TfidfVectorizer(token_pattern=r'\\w{1,}', ngram_range=(2, 3), max_df=0.34, min_df=0.001)),\n",
    "#                             ('scaler', StandardScaler(with_mean=False))\n",
    "                           ])),\n",
    "                ('requirements_count', \n",
    "                  Pipeline([('extract_text', FunctionTransformer(lambda x: x['requirements'], validate=False)),\n",
    "                            ('count', CountVectorizer(token_pattern=r'\\w{1,}', ngram_range=(2, 3), max_df=0.34, min_df=0.001, binary=True)),\n",
    "#                             ('scaler', StandardScaler(with_mean=False))\n",
    "                           ])),\n",
    "                ('benefits_tfidf', \n",
    "                  Pipeline([('extract_text', FunctionTransformer(lambda x: x['benefits'], validate=False)),\n",
    "                            ('tfidf', TfidfVectorizer(token_pattern=r'\\w{1,}', ngram_range=(2, 3), analyzer='word', max_df=0.34, min_df=0.001)),\n",
    "#                             ('scaler', StandardScaler(with_mean=False))\n",
    "                           ])),\n",
    "                ('benefits_count', \n",
    "                  Pipeline([('extract_text', FunctionTransformer(lambda x: x['benefits'], validate=False)),\n",
    "                            ('count', CountVectorizer(token_pattern=r'\\w{1,}', ngram_range=(2, 3), analyzer='word', max_df=0.34, min_df=0.001, binary=True)),\n",
    "#                             ('scaler', StandardScaler(with_mean=False))\n",
    "                           ])),\n",
    "                ('telecommuting', \n",
    "                  Pipeline([('extract_number', FunctionTransformer(lambda x: x[['telecommuting']], validate=False)),\n",
    "                            ('imputer', SimpleImputer()),\n",
    "#                             ('scaler', StandardScaler())\n",
    "                            ])),\n",
    "                ('has_company_logo', \n",
    "                  Pipeline([('extract_number', FunctionTransformer(lambda x: x[['has_company_logo']], validate=False)),\n",
    "                            ('imputer', SimpleImputer()),\n",
    "#                             ('scaler', StandardScaler())\n",
    "                            ])),\n",
    "                ('has_questions', \n",
    "                  Pipeline([('extract_number', FunctionTransformer(lambda x: x[['has_questions']], validate=False)),\n",
    "                            ('imputer', SimpleImputer()),\n",
    "#                             ('scaler', StandardScaler())\n",
    "                            ])),\n",
    "                ('employment_type', \n",
    "                  Pipeline([('extract_number', FunctionTransformer(lambda x: x[['employment_type']], validate=False)),\n",
    "                            ('imputer', SimpleImputer()),\n",
    "#                             ('scaler', StandardScaler())\n",
    "                            ])),\n",
    "                ('required_experience', \n",
    "                  Pipeline([('extract_number', FunctionTransformer(lambda x: x[['required_experience']], validate=False)),\n",
    "                            ('imputer', SimpleImputer()),\n",
    "#                             ('scaler', StandardScaler())\n",
    "                            ])),\n",
    "                ('required_education', \n",
    "                  Pipeline([('extract_number', FunctionTransformer(lambda x: x[['required_education']], validate=False)),\n",
    "                            ('imputer', SimpleImputer()),\n",
    "#                             ('scaler', StandardScaler())\n",
    "                            ])),\n",
    "                ('industry', \n",
    "                  Pipeline([('extract_number', FunctionTransformer(lambda x: x[['industry']], validate=False)),\n",
    "                            ('imputer', SimpleImputer()),\n",
    "#                             ('scaler', StandardScaler())\n",
    "                            ])),\n",
    "                ('function', \n",
    "                  Pipeline([('extract_number', FunctionTransformer(lambda x: x[['function']], validate=False)),\n",
    "                            ('imputer', SimpleImputer()),\n",
    "#                             ('scaler', StandardScaler())\n",
    "                            ])),\n",
    "            ])\n",
    "\n",
    "\n",
    "# train features and labels\n",
    "train, valid = train_test_split(df_new, test_size=0.2, random_state=13)\n",
    "X_train = transformer.fit_transform(train.drop(['job_id', 'title', 'location', 'fraudulent'], axis=1)).toarray()\n",
    "y_train = train['fraudulent'].to_numpy()\n",
    "X_valid = transformer.transform(valid.drop(['job_id', 'title', 'location', 'fraudulent'], axis=1)).toarray()\n",
    "y_valid = valid['fraudulent'].to_numpy()\n",
    "\n",
    "\n",
    "# use Gaussian Naive Bayes classifier\n",
    "clf = GaussianNB()\n",
    "scores = evaluate_classifier(clf, X_train, y_train, X_valid, y_valid)\n",
    "print('Gaussian Naive Bayes scores:')\n",
    "print(scores)\n",
    "\n",
    "print('')\n",
    "\n",
    "# use Nearest Centroid classifier\n",
    "clf = NearestCentroid()\n",
    "scores = evaluate_classifier(clf, X_train, y_train, X_valid, y_valid)\n",
    "print('Nearest Centroid scores:')\n",
    "print(scores)\n",
    "\n",
    "print('')\n",
    "\n",
    "# use Perceptron classifier\n",
    "clf = Perceptron()\n",
    "scores = evaluate_classifier(clf, X_train, y_train, X_valid, y_valid)\n",
    "print('Perceptron scores:')\n",
    "print(scores)\n",
    "\n",
    "\n",
    "print('\\n')\n",
    "\n",
    "\n",
    "# use Decision Trees classifier\n",
    "clf = DecisionTreeClassifier()\n",
    "scores = evaluate_classifier(clf, X_train, y_train, X_valid, y_valid)\n",
    "print('Decision Tree classifier scores')\n",
    "print(scores)\n",
    "\n",
    "print('')\n",
    "\n",
    "# use Bagging with Decision Trees classifier\n",
    "clf = BaggingClassifier(DecisionTreeClassifier())\n",
    "scores = evaluate_classifier(clf, X_train, y_train, X_valid, y_valid)\n",
    "print('Bagging classifier with Decision Tree classifier scores')\n",
    "print(scores)\n",
    "\n",
    "print('')\n",
    "\n",
    "# use Boosting with Decision Trees classifier\n",
    "clf = AdaBoostClassifier(DecisionTreeClassifier())\n",
    "scores = evaluate_classifier(clf, X_train, y_train, X_valid, y_valid)\n",
    "print('AdaBoost classifier with Decision Tree classifier scores')\n",
    "print(scores)\n",
    "\n",
    "\n",
    "print('\\n')\n",
    "\n",
    "\n",
    "# use Stochastic Gradient Descent classifier\n",
    "clf = SGDClassifier()\n",
    "scores = evaluate_classifier(clf, X_train, y_train, X_valid, y_valid)\n",
    "print('Stochastic Gradient Descent classifier scores')\n",
    "print(scores)\n",
    "\n",
    "print('')\n",
    "\n",
    "# use Bagging with Gradient Descent classifier\n",
    "clf = BaggingClassifier(SGDClassifier())\n",
    "scores = evaluate_classifier(clf, X_train, y_train, X_valid, y_valid)\n",
    "print('Bagging classifier with Stochastic Gradient Descent classifier scores')\n",
    "print(scores)\n",
    "\n",
    "print('')\n",
    "\n",
    "# use Boosting with Gradient Descent classifier\n",
    "clf = AdaBoostClassifier(SGDClassifier(), algorithm='SAMME')\n",
    "scores = evaluate_classifier(clf, X_train, y_train, X_valid, y_valid)\n",
    "print('AdaBoost classifier with Stochastic Gradient Descent classifier scores')\n",
    "print(scores)"
   ]
  },
  {
   "cell_type": "markdown",
   "metadata": {},
   "source": [
    "As expected, the resutls were not that great.\n",
    "\n",
    "However, some classifiers, like Gaussian Naive Bayes, Decision Trees and Stochastic Gradient Descent produce somewhat good results, even if precision and recall are not balanced in most cases.\n",
    "\n",
    "Also, both bagging and boosting do not offer any significant advantage. To be more precise, they make the classifiers underperform."
   ]
  },
  {
   "cell_type": "markdown",
   "metadata": {},
   "source": [
    "Let's see how a simple deep learning model performs."
   ]
  },
  {
   "cell_type": "code",
   "execution_count": 29,
   "metadata": {},
   "outputs": [],
   "source": [
    "# Labels --> one-hot encodings\n",
    "y_train = to_categorical(y_train.reshape([-1, 1]))\n",
    "y_valid = to_categorical(y_valid.reshape([-1, 1]))"
   ]
  },
  {
   "cell_type": "code",
   "execution_count": 30,
   "metadata": {},
   "outputs": [],
   "source": [
    "dropout_rate=0.3\n",
    "learning_rate=0.1\n",
    "patience=1\n",
    "batch_size=32\n",
    "epochs=20\n",
    "units=[256, 128, 2]"
   ]
  },
  {
   "cell_type": "code",
   "execution_count": 31,
   "metadata": {},
   "outputs": [
    {
     "name": "stdout",
     "output_type": "stream",
     "text": [
      "Model: \"sequential_1\"\n",
      "_________________________________________________________________\n",
      "Layer (type)                 Output Shape              Param #   \n",
      "=================================================================\n",
      "dense_4 (Dense)              (None, 256)               44520192  \n",
      "_________________________________________________________________\n",
      "dense_5 (Dense)              (None, 128)               32896     \n",
      "_________________________________________________________________\n",
      "dense_6 (Dense)              (None, 2)                 258       \n",
      "_________________________________________________________________\n",
      "dense_7 (Dense)              (None, 2)                 6         \n",
      "=================================================================\n",
      "Total params: 44,553,352\n",
      "Trainable params: 44,553,352\n",
      "Non-trainable params: 0\n",
      "_________________________________________________________________\n"
     ]
    }
   ],
   "source": [
    "model = build_model(X_train, y_train, relu, units, dropout_rate, learning_rate)"
   ]
  },
  {
   "cell_type": "markdown",
   "metadata": {},
   "source": [
    "Let's train the model."
   ]
  },
  {
   "cell_type": "code",
   "execution_count": 32,
   "metadata": {
    "tags": []
   },
   "outputs": [
    {
     "name": "stdout",
     "output_type": "stream",
     "text": [
      "Epoch 1/20\n",
      "222/222 [==============================] - 18s 82ms/step - loss: 0.1748 - accuracy: 0.9754 - val_loss: 0.1154 - val_accuracy: 0.9763\n",
      "Epoch 2/20\n",
      "222/222 [==============================] - 19s 87ms/step - loss: 0.1130 - accuracy: 0.9764 - val_loss: 0.1125 - val_accuracy: 0.9763\n",
      "Epoch 3/20\n",
      "222/222 [==============================] - 19s 84ms/step - loss: 0.1119 - accuracy: 0.9764 - val_loss: 0.1122 - val_accuracy: 0.9763\n",
      "Epoch 4/20\n",
      "222/222 [==============================] - 18s 81ms/step - loss: 0.1118 - accuracy: 0.9764 - val_loss: 0.1122 - val_accuracy: 0.9763\n",
      "Epoch 5/20\n",
      "222/222 [==============================] - 18s 82ms/step - loss: 0.1118 - accuracy: 0.9764 - val_loss: 0.1122 - val_accuracy: 0.9763\n"
     ]
    },
    {
     "data": {
      "text/plain": [
       "<tensorflow.python.keras.callbacks.History at 0x7f979bab43c8>"
      ]
     },
     "execution_count": 32,
     "metadata": {},
     "output_type": "execute_result"
    }
   ],
   "source": [
    "early_stopping = EarlyStopping(monitor='val_loss', mode='min', patience=patience, restore_best_weights=True)\n",
    "\n",
    "model.fit(x=X_train, y=y_train, \n",
    "          validation_data=(X_valid, y_valid), \n",
    "          batch_size=batch_size, epochs=epochs, \n",
    "          callbacks=[early_stopping])"
   ]
  },
  {
   "cell_type": "markdown",
   "metadata": {},
   "source": [
    "Let's plot the losses."
   ]
  },
  {
   "cell_type": "code",
   "execution_count": 33,
   "metadata": {},
   "outputs": [
    {
     "data": {
      "text/plain": [
       "<AxesSubplot:>"
      ]
     },
     "execution_count": 33,
     "metadata": {},
     "output_type": "execute_result"
    },
    {
     "data": {
      "image/png": "[encoded data removed]",
      "text/plain": [
       "<Figure size 720x576 with 1 Axes>"
      ]
     },
     "metadata": {
      "needs_background": "light"
     },
     "output_type": "display_data"
    }
   ],
   "source": [
    "losses = pd.DataFrame(model.history.history)\n",
    "losses.plot(figsize=(10,8))"
   ]
  },
  {
   "cell_type": "markdown",
   "metadata": {},
   "source": [
    "Let's evaluate our model."
   ]
  },
  {
   "cell_type": "code",
   "execution_count": 34,
   "metadata": {},
   "outputs": [
    {
     "name": "stdout",
     "output_type": "stream",
     "text": [
      "56/56 [==============================] - 2s 34ms/step - loss: 0.1122 - accuracy: 0.9763\n"
     ]
    },
    {
     "data": {
      "text/plain": [
       "[0.11221769452095032, 0.9762712121009827]"
      ]
     },
     "execution_count": 34,
     "metadata": {},
     "output_type": "execute_result"
    }
   ],
   "source": [
    "model.evaluate(X_valid, y_valid)"
   ]
  },
  {
   "cell_type": "code",
   "execution_count": 35,
   "metadata": {},
   "outputs": [
    {
     "name": "stdout",
     "output_type": "stream",
     "text": [
      "              precision    recall  f1-score   support\n",
      "\n",
      "           0       0.98      1.00      0.99      1728\n",
      "           1       0.00      0.00      0.00        42\n",
      "\n",
      "   micro avg       0.98      0.98      0.98      1770\n",
      "   macro avg       0.49      0.50      0.49      1770\n",
      "weighted avg       0.95      0.98      0.96      1770\n",
      " samples avg       0.98      0.98      0.98      1770\n",
      "\n"
     ]
    }
   ],
   "source": [
    "# predict the labels on validation dataset\n",
    "y_pred = model.predict(X_valid).round()\n",
    "\n",
    "# gather scores\n",
    "scores = classification_report(y_valid, y_pred, zero_division=0)\n",
    "print(scores)"
   ]
  },
  {
   "cell_type": "markdown",
   "metadata": {},
   "source": [
    "The deep learning model has about the same evaluation results as the other simple classifiers."
   ]
  },
  {
   "cell_type": "markdown",
   "metadata": {},
   "source": [
    "### Experiment #3: Remove all records with null values."
   ]
  },
  {
   "cell_type": "markdown",
   "metadata": {},
   "source": [
    "Let's remove all records which contain null values in at least one feature."
   ]
  },
  {
   "cell_type": "code",
   "execution_count": 36,
   "metadata": {},
   "outputs": [
    {
     "name": "stdout",
     "output_type": "stream",
     "text": [
      "<class 'pandas.core.frame.DataFrame'>\n",
      "Int64Index: 774 entries, 6 to 17865\n",
      "Data columns (total 18 columns):\n",
      " #   Column               Non-Null Count  Dtype  \n",
      "---  ------               --------------  -----  \n",
      " 0   job_id               774 non-null    int64  \n",
      " 1   title                774 non-null    object \n",
      " 2   location             774 non-null    object \n",
      " 3   department           774 non-null    float64\n",
      " 4   salary_range         774 non-null    object \n",
      " 5   company_profile      774 non-null    object \n",
      " 6   description          774 non-null    object \n",
      " 7   requirements         774 non-null    object \n",
      " 8   benefits             774 non-null    object \n",
      " 9   telecommuting        774 non-null    int64  \n",
      " 10  has_company_logo     774 non-null    int64  \n",
      " 11  has_questions        774 non-null    int64  \n",
      " 12  employment_type      774 non-null    float64\n",
      " 13  required_experience  774 non-null    float64\n",
      " 14  required_education   774 non-null    float64\n",
      " 15  industry             774 non-null    float64\n",
      " 16  function             774 non-null    float64\n",
      " 17  fraudulent           774 non-null    int64  \n",
      "dtypes: float64(6), int64(5), object(7)\n",
      "memory usage: 114.9+ KB\n"
     ]
    }
   ],
   "source": [
    "df_new = df.dropna(how='any', subset=categorical_features+string_features+['salary_range'], axis=0)\n",
    "df_new.info()"
   ]
  },
  {
   "cell_type": "markdown",
   "metadata": {},
   "source": [
    "Let's perform some text preprocessing on the string features of the records that remain."
   ]
  },
  {
   "cell_type": "code",
   "execution_count": 37,
   "metadata": {},
   "outputs": [
    {
     "data": {
      "text/html": [
       "<div>\n",
       "<style scoped>\n",
       "    .dataframe tbody tr th:only-of-type {\n",
       "        vertical-align: middle;\n",
       "    }\n",
       "\n",
       "    .dataframe tbody tr th {\n",
       "        vertical-align: top;\n",
       "    }\n",
       "\n",
       "    .dataframe thead th {\n",
       "        text-align: right;\n",
       "    }\n",
       "</style>\n",
       "<table border=\"1\" class=\"dataframe\">\n",
       "  <thead>\n",
       "    <tr style=\"text-align: right;\">\n",
       "      <th></th>\n",
       "      <th>job_id</th>\n",
       "      <th>department</th>\n",
       "      <th>telecommuting</th>\n",
       "      <th>has_company_logo</th>\n",
       "      <th>has_questions</th>\n",
       "      <th>employment_type</th>\n",
       "      <th>required_experience</th>\n",
       "      <th>required_education</th>\n",
       "      <th>industry</th>\n",
       "      <th>function</th>\n",
       "      <th>fraudulent</th>\n",
       "      <th>min_salary</th>\n",
       "      <th>max_salary</th>\n",
       "    </tr>\n",
       "  </thead>\n",
       "  <tbody>\n",
       "    <tr>\n",
       "      <th>count</th>\n",
       "      <td>774.000000</td>\n",
       "      <td>774.000000</td>\n",
       "      <td>774.000000</td>\n",
       "      <td>774.000000</td>\n",
       "      <td>774.000000</td>\n",
       "      <td>774.000000</td>\n",
       "      <td>774.000000</td>\n",
       "      <td>774.000000</td>\n",
       "      <td>774.000000</td>\n",
       "      <td>774.000000</td>\n",
       "      <td>774.000000</td>\n",
       "      <td>7.740000e+02</td>\n",
       "      <td>7.740000e+02</td>\n",
       "    </tr>\n",
       "    <tr>\n",
       "      <th>mean</th>\n",
       "      <td>8664.093023</td>\n",
       "      <td>686.856589</td>\n",
       "      <td>0.094315</td>\n",
       "      <td>0.978036</td>\n",
       "      <td>0.673127</td>\n",
       "      <td>2.027132</td>\n",
       "      <td>3.852713</td>\n",
       "      <td>4.184755</td>\n",
       "      <td>57.157623</td>\n",
       "      <td>19.093023</td>\n",
       "      <td>0.093023</td>\n",
       "      <td>1.731337e+06</td>\n",
       "      <td>2.658515e+06</td>\n",
       "    </tr>\n",
       "    <tr>\n",
       "      <th>std</th>\n",
       "      <td>5014.106692</td>\n",
       "      <td>349.137620</td>\n",
       "      <td>0.292456</td>\n",
       "      <td>0.146660</td>\n",
       "      <td>0.469374</td>\n",
       "      <td>0.455568</td>\n",
       "      <td>2.188766</td>\n",
       "      <td>2.998615</td>\n",
       "      <td>29.994022</td>\n",
       "      <td>9.349703</td>\n",
       "      <td>0.290653</td>\n",
       "      <td>3.388751e+07</td>\n",
       "      <td>5.180494e+07</td>\n",
       "    </tr>\n",
       "    <tr>\n",
       "      <th>min</th>\n",
       "      <td>7.000000</td>\n",
       "      <td>2.000000</td>\n",
       "      <td>0.000000</td>\n",
       "      <td>0.000000</td>\n",
       "      <td>0.000000</td>\n",
       "      <td>1.000000</td>\n",
       "      <td>1.000000</td>\n",
       "      <td>1.000000</td>\n",
       "      <td>1.000000</td>\n",
       "      <td>1.000000</td>\n",
       "      <td>0.000000</td>\n",
       "      <td>0.000000e+00</td>\n",
       "      <td>0.000000e+00</td>\n",
       "    </tr>\n",
       "    <tr>\n",
       "      <th>25%</th>\n",
       "      <td>4483.500000</td>\n",
       "      <td>380.000000</td>\n",
       "      <td>0.000000</td>\n",
       "      <td>1.000000</td>\n",
       "      <td>0.000000</td>\n",
       "      <td>2.000000</td>\n",
       "      <td>1.000000</td>\n",
       "      <td>2.000000</td>\n",
       "      <td>27.000000</td>\n",
       "      <td>13.000000</td>\n",
       "      <td>0.000000</td>\n",
       "      <td>2.400000e+04</td>\n",
       "      <td>3.120000e+04</td>\n",
       "    </tr>\n",
       "    <tr>\n",
       "      <th>50%</th>\n",
       "      <td>8542.000000</td>\n",
       "      <td>734.500000</td>\n",
       "      <td>0.000000</td>\n",
       "      <td>1.000000</td>\n",
       "      <td>1.000000</td>\n",
       "      <td>2.000000</td>\n",
       "      <td>3.000000</td>\n",
       "      <td>2.000000</td>\n",
       "      <td>59.000000</td>\n",
       "      <td>19.000000</td>\n",
       "      <td>0.000000</td>\n",
       "      <td>4.000000e+04</td>\n",
       "      <td>5.450000e+04</td>\n",
       "    </tr>\n",
       "    <tr>\n",
       "      <th>75%</th>\n",
       "      <td>12922.250000</td>\n",
       "      <td>1055.000000</td>\n",
       "      <td>0.000000</td>\n",
       "      <td>1.000000</td>\n",
       "      <td>1.000000</td>\n",
       "      <td>2.000000</td>\n",
       "      <td>6.000000</td>\n",
       "      <td>5.000000</td>\n",
       "      <td>76.000000</td>\n",
       "      <td>26.000000</td>\n",
       "      <td>0.000000</td>\n",
       "      <td>6.500000e+04</td>\n",
       "      <td>9.000000e+04</td>\n",
       "    </tr>\n",
       "    <tr>\n",
       "      <th>max</th>\n",
       "      <td>17866.000000</td>\n",
       "      <td>1330.000000</td>\n",
       "      <td>1.000000</td>\n",
       "      <td>1.000000</td>\n",
       "      <td>1.000000</td>\n",
       "      <td>5.000000</td>\n",
       "      <td>7.000000</td>\n",
       "      <td>13.000000</td>\n",
       "      <td>131.000000</td>\n",
       "      <td>37.000000</td>\n",
       "      <td>1.000000</td>\n",
       "      <td>8.000000e+08</td>\n",
       "      <td>1.200000e+09</td>\n",
       "    </tr>\n",
       "  </tbody>\n",
       "</table>\n",
       "</div>"
      ],
      "text/plain": [
       "             job_id   department  telecommuting  has_company_logo  \\\n",
       "count    774.000000   774.000000     774.000000        774.000000   \n",
       "mean    8664.093023   686.856589       0.094315          0.978036   \n",
       "std     5014.106692   349.137620       0.292456          0.146660   \n",
       "min        7.000000     2.000000       0.000000          0.000000   \n",
       "25%     4483.500000   380.000000       0.000000          1.000000   \n",
       "50%     8542.000000   734.500000       0.000000          1.000000   \n",
       "75%    12922.250000  1055.000000       0.000000          1.000000   \n",
       "max    17866.000000  1330.000000       1.000000          1.000000   \n",
       "\n",
       "       has_questions  employment_type  required_experience  \\\n",
       "count     774.000000       774.000000           774.000000   \n",
       "mean        0.673127         2.027132             3.852713   \n",
       "std         0.469374         0.455568             2.188766   \n",
       "min         0.000000         1.000000             1.000000   \n",
       "25%         0.000000         2.000000             1.000000   \n",
       "50%         1.000000         2.000000             3.000000   \n",
       "75%         1.000000         2.000000             6.000000   \n",
       "max         1.000000         5.000000             7.000000   \n",
       "\n",
       "       required_education    industry    function  fraudulent    min_salary  \\\n",
       "count          774.000000  774.000000  774.000000  774.000000  7.740000e+02   \n",
       "mean             4.184755   57.157623   19.093023    0.093023  1.731337e+06   \n",
       "std              2.998615   29.994022    9.349703    0.290653  3.388751e+07   \n",
       "min              1.000000    1.000000    1.000000    0.000000  0.000000e+00   \n",
       "25%              2.000000   27.000000   13.000000    0.000000  2.400000e+04   \n",
       "50%              2.000000   59.000000   19.000000    0.000000  4.000000e+04   \n",
       "75%              5.000000   76.000000   26.000000    0.000000  6.500000e+04   \n",
       "max             13.000000  131.000000   37.000000    1.000000  8.000000e+08   \n",
       "\n",
       "         max_salary  \n",
       "count  7.740000e+02  \n",
       "mean   2.658515e+06  \n",
       "std    5.180494e+07  \n",
       "min    0.000000e+00  \n",
       "25%    3.120000e+04  \n",
       "50%    5.450000e+04  \n",
       "75%    9.000000e+04  \n",
       "max    1.200000e+09  "
      ]
     },
     "execution_count": 37,
     "metadata": {},
     "output_type": "execute_result"
    }
   ],
   "source": [
    "df_new = clean_strings(df_new, string_features)\n",
    "\n",
    "salary = df_new['salary_range'].str.split('-', n=1, expand=True)\n",
    "salary[0] = pd.to_numeric(salary[0], errors='coerce')\n",
    "salary[1] = pd.to_numeric(salary[1], errors='coerce')\n",
    "df_new['min_salary'] = salary[0].astype(float)\n",
    "df_new['max_salary'] = salary[1].astype(float)\n",
    "\n",
    "df_new.describe()"
   ]
  },
  {
   "cell_type": "markdown",
   "metadata": {},
   "source": [
    "We can see that we are left with about half the records from the original dataset and that the class imbalance situtation became even worse. From 95% - 5% it became 98% - 2%."
   ]
  },
  {
   "cell_type": "markdown",
   "metadata": {},
   "source": [
    "Since we are taking into consideration the salary range feature, we need to check whether there exist any outliers in the data.\n",
    "\n",
    "We can do that using boxplots and distribution plots."
   ]
  },
  {
   "cell_type": "code",
   "execution_count": 38,
   "metadata": {},
   "outputs": [
    {
     "name": "stderr",
     "output_type": "stream",
     "text": [
      "/mnt/disk/bishop/miniconda3/envs/bd/lib/python3.6/site-packages/seaborn/_decorators.py:43: FutureWarning: Pass the following variable as a keyword arg: x. From version 0.12, the only valid positional argument will be `data`, and passing other arguments without an explicit keyword will result in an error or misinterpretation.\n",
      "  FutureWarning\n",
      "/mnt/disk/bishop/miniconda3/envs/bd/lib/python3.6/site-packages/seaborn/distributions.py:2557: FutureWarning: `distplot` is a deprecated function and will be removed in a future version. Please adapt your code to use either `displot` (a figure-level function with similar flexibility) or `histplot` (an axes-level function for histograms).\n",
      "  warnings.warn(msg, FutureWarning)\n",
      "/mnt/disk/bishop/miniconda3/envs/bd/lib/python3.6/site-packages/seaborn/_decorators.py:43: FutureWarning: Pass the following variable as a keyword arg: x. From version 0.12, the only valid positional argument will be `data`, and passing other arguments without an explicit keyword will result in an error or misinterpretation.\n",
      "  FutureWarning\n",
      "/mnt/disk/bishop/miniconda3/envs/bd/lib/python3.6/site-packages/seaborn/distributions.py:2557: FutureWarning: `distplot` is a deprecated function and will be removed in a future version. Please adapt your code to use either `displot` (a figure-level function with similar flexibility) or `histplot` (an axes-level function for histograms).\n",
      "  warnings.warn(msg, FutureWarning)\n",
      "/mnt/disk/bishop/miniconda3/envs/bd/lib/python3.6/site-packages/seaborn/_decorators.py:43: FutureWarning: Pass the following variable as a keyword arg: x. From version 0.12, the only valid positional argument will be `data`, and passing other arguments without an explicit keyword will result in an error or misinterpretation.\n",
      "  FutureWarning\n",
      "/mnt/disk/bishop/miniconda3/envs/bd/lib/python3.6/site-packages/seaborn/distributions.py:2557: FutureWarning: `distplot` is a deprecated function and will be removed in a future version. Please adapt your code to use either `displot` (a figure-level function with similar flexibility) or `histplot` (an axes-level function for histograms).\n",
      "  warnings.warn(msg, FutureWarning)\n",
      "/mnt/disk/bishop/miniconda3/envs/bd/lib/python3.6/site-packages/seaborn/_decorators.py:43: FutureWarning: Pass the following variable as a keyword arg: x. From version 0.12, the only valid positional argument will be `data`, and passing other arguments without an explicit keyword will result in an error or misinterpretation.\n",
      "  FutureWarning\n",
      "/mnt/disk/bishop/miniconda3/envs/bd/lib/python3.6/site-packages/seaborn/distributions.py:2557: FutureWarning: `distplot` is a deprecated function and will be removed in a future version. Please adapt your code to use either `displot` (a figure-level function with similar flexibility) or `histplot` (an axes-level function for histograms).\n",
      "  warnings.warn(msg, FutureWarning)\n"
     ]
    },
    {
     "data": {
      "text/plain": [
       "[Text(0.5, 0, 'Salary'),\n",
       " Text(0, 0.5, 'Count'),\n",
       " Text(0.5, 1.0, 'Maximum salary in fake job postings')]"
      ]
     },
     "execution_count": 38,
     "metadata": {},
     "output_type": "execute_result"
    },
    {
     "data": {
      "image/png": "[encoded data removed]",
      "text/plain": [
       "<Figure size 1440x2304 with 8 Axes>"
      ]
     },
     "metadata": {
      "needs_background": "light"
     },
     "output_type": "display_data"
    }
   ],
   "source": [
    "fig, ax = plt.subplots(4, 2, figsize=(20,32))\n",
    "\n",
    "plt.subplot(4, 2, 1)\n",
    "sns.set(style='whitegrid')\n",
    "sns.boxplot(df_new.loc[df_new['fraudulent'] == 0, 'min_salary']).set(xlabel='Salary', title='Minimum salary in real job postings')\n",
    "\n",
    "plt.subplot(4, 2, 2)\n",
    "sns.set(style='whitegrid')\n",
    "sns.distplot(df_new.loc[df_new['fraudulent'] == 0, 'min_salary'], norm_hist=False, kde=False, bins=28, hist_kws={\"alpha\": 1}).\\\n",
    "    set(xlabel='Salary', ylabel='Count', title='Minimum salary in real job postings')\n",
    "\n",
    "plt.subplot(4, 2, 3)\n",
    "sns.set(style='whitegrid')\n",
    "sns.boxplot(df_new.loc[df_new['fraudulent'] == 0, 'max_salary']).set(xlabel='Salary', title='Maximum salary in real job postings')\n",
    "\n",
    "plt.subplot(4, 2, 4)\n",
    "sns.set(style='whitegrid')\n",
    "sns.distplot(df_new.loc[df_new['fraudulent'] == 0, 'max_salary'], norm_hist=False, kde=False, bins=28, hist_kws={\"alpha\": 1}).\\\n",
    "    set(xlabel='Salary', ylabel='Count', title='Maximum salary in real job postings')\n",
    "\n",
    "plt.subplot(4, 2, 5)\n",
    "sns.set(style='whitegrid')\n",
    "sns.boxplot(df_new.loc[df_new['fraudulent'] == 1, 'min_salary']).set(xlabel='Salary', title='Minimum salary in fake job postings')\n",
    "\n",
    "plt.subplot(4, 2, 6)\n",
    "sns.set(style='whitegrid')\n",
    "sns.distplot(df_new.loc[df_new['fraudulent'] == 1, 'min_salary'], norm_hist=False, kde=False, bins=28, hist_kws={\"alpha\": 1}).\\\n",
    "    set(xlabel='Salary', ylabel='Count', title='Minimum salary in fake job postings')\n",
    "\n",
    "plt.subplot(4, 2, 7)\n",
    "sns.set(style='whitegrid')\n",
    "sns.boxplot(df_new.loc[df_new['fraudulent'] == 1, 'max_salary']).set(xlabel='Salary', title='Maximum salary in fake job postings')\n",
    "\n",
    "plt.subplot(4, 2, 8)\n",
    "sns.set(style='whitegrid')\n",
    "sns.distplot(df_new.loc[df_new['fraudulent'] == 1, 'max_salary'], norm_hist=False, kde=False, bins=28, hist_kws={\"alpha\": 1}).\\\n",
    "    set(xlabel='Salary', ylabel='Count', title='Maximum salary in fake job postings')"
   ]
  },
  {
   "cell_type": "markdown",
   "metadata": {},
   "source": [
    "Now, we can use the $1.5 \\times IQR$ rule to remove outliers."
   ]
  },
  {
   "cell_type": "code",
   "execution_count": 39,
   "metadata": {},
   "outputs": [],
   "source": [
    "q1, q3 = np.percentile(df_new.loc[df_new['fraudulent'] == 0, 'min_salary'].dropna(), [25 ,75])\n",
    "iqr = q3 - q1\n",
    "minminreal = max(0,q1-1.5*iqr)\n",
    "maxminreal = max(0,q3+1.5*iqr)\n",
    "# print(q1,q3,iqr)\n",
    "# print(minminreal,maxminreal)\n",
    "\n",
    "q1, q3 = np.percentile(df_new.loc[df_new['fraudulent'] == 0, 'max_salary'].dropna(), [25 ,75])\n",
    "iqr = q3 - q1\n",
    "minmaxreal = max(0,q1-1.5*iqr)\n",
    "maxmaxreal = max(0,q3+1.5*iqr)\n",
    "# print(q1,q3,iqr)\n",
    "# print(minmaxreal,maxmaxreal)\n",
    "\n",
    "# .to_numpy()\n",
    "q1, q3 = np.percentile(df_new.loc[df_new['fraudulent'] == 1, 'min_salary'].dropna(), [25 ,75])\n",
    "iqr = q3 - q1\n",
    "minminfake = max(0,q1-1.5*iqr)\n",
    "maxminfake = max(0,q3+1.5*iqr)\n",
    "# print(q1,q3,iqr)\n",
    "# print(minminfake,maxminfake)\n",
    "\n",
    "q1, q3 = np.percentile(df_new.loc[df_new['fraudulent'] == 1, 'max_salary'].dropna(), [25 ,75])\n",
    "iqr = q3 - q1\n",
    "minmaxfake = max(0,q1-1.5*iqr)\n",
    "maxmaxfake = max(0,q3+1.5*iqr)\n",
    "# print(q1,q3,iqr)\n",
    "# print(minmaxfake,maxmaxfake)"
   ]
  },
  {
   "cell_type": "code",
   "execution_count": 40,
   "metadata": {},
   "outputs": [],
   "source": [
    "df_new.loc[(df_new['fraudulent'] == 0) & (df_new['min_salary'] < minminreal), ['min_salary']] = np.nan\n",
    "df_new.loc[(df_new['fraudulent'] == 0) & (df_new['min_salary'] > maxminreal), ['min_salary']] = np.nan\n",
    "df_new.loc[(df_new['fraudulent'] == 0) & (df_new['max_salary'] < minmaxreal), ['max_salary']] = np.nan\n",
    "df_new.loc[(df_new['fraudulent'] == 0) & (df_new['max_salary'] > maxmaxreal), ['max_salary']] = np.nan\n",
    "df_new.loc[(df_new['fraudulent'] == 1) & (df_new['min_salary'] < minminfake), ['min_salary']] = np.nan\n",
    "df_new.loc[(df_new['fraudulent'] == 1) & (df_new['min_salary'] > maxminfake), ['min_salary']] = np.nan\n",
    "df_new.loc[(df_new['fraudulent'] == 1) & (df_new['max_salary'] < minmaxfake), ['max_salary']] = np.nan\n",
    "df_new.loc[(df_new['fraudulent'] == 1) & (df_new['max_salary'] > maxmaxfake), ['max_salary']] = np.nan\n",
    "\n",
    "df_new = df_new.dropna(how='any', subset=['min_salary', 'max_salary'], axis=0)"
   ]
  },
  {
   "cell_type": "markdown",
   "metadata": {},
   "source": [
    "Let's check the result, both from a statistical point of view and through boxplots and distplots."
   ]
  },
  {
   "cell_type": "code",
   "execution_count": 41,
   "metadata": {},
   "outputs": [
    {
     "data": {
      "text/html": [
       "<div>\n",
       "<style scoped>\n",
       "    .dataframe tbody tr th:only-of-type {\n",
       "        vertical-align: middle;\n",
       "    }\n",
       "\n",
       "    .dataframe tbody tr th {\n",
       "        vertical-align: top;\n",
       "    }\n",
       "\n",
       "    .dataframe thead th {\n",
       "        text-align: right;\n",
       "    }\n",
       "</style>\n",
       "<table border=\"1\" class=\"dataframe\">\n",
       "  <thead>\n",
       "    <tr style=\"text-align: right;\">\n",
       "      <th></th>\n",
       "      <th>job_id</th>\n",
       "      <th>department</th>\n",
       "      <th>telecommuting</th>\n",
       "      <th>has_company_logo</th>\n",
       "      <th>has_questions</th>\n",
       "      <th>employment_type</th>\n",
       "      <th>required_experience</th>\n",
       "      <th>required_education</th>\n",
       "      <th>industry</th>\n",
       "      <th>function</th>\n",
       "      <th>fraudulent</th>\n",
       "      <th>min_salary</th>\n",
       "      <th>max_salary</th>\n",
       "    </tr>\n",
       "  </thead>\n",
       "  <tbody>\n",
       "    <tr>\n",
       "      <th>count</th>\n",
       "      <td>720.000000</td>\n",
       "      <td>720.000000</td>\n",
       "      <td>720.000000</td>\n",
       "      <td>720.000000</td>\n",
       "      <td>720.000000</td>\n",
       "      <td>720.000000</td>\n",
       "      <td>720.000000</td>\n",
       "      <td>720.000000</td>\n",
       "      <td>720.000000</td>\n",
       "      <td>720.000000</td>\n",
       "      <td>720.000000</td>\n",
       "      <td>720.000000</td>\n",
       "      <td>720.000000</td>\n",
       "    </tr>\n",
       "    <tr>\n",
       "      <th>mean</th>\n",
       "      <td>8612.451389</td>\n",
       "      <td>681.920833</td>\n",
       "      <td>0.098611</td>\n",
       "      <td>0.976389</td>\n",
       "      <td>0.668056</td>\n",
       "      <td>2.029167</td>\n",
       "      <td>3.809722</td>\n",
       "      <td>4.225000</td>\n",
       "      <td>56.320833</td>\n",
       "      <td>19.205556</td>\n",
       "      <td>0.098611</td>\n",
       "      <td>40383.070833</td>\n",
       "      <td>57402.252778</td>\n",
       "    </tr>\n",
       "    <tr>\n",
       "      <th>std</th>\n",
       "      <td>5043.050498</td>\n",
       "      <td>353.179535</td>\n",
       "      <td>0.298346</td>\n",
       "      <td>0.151940</td>\n",
       "      <td>0.471239</td>\n",
       "      <td>0.472303</td>\n",
       "      <td>2.195878</td>\n",
       "      <td>3.059346</td>\n",
       "      <td>29.814188</td>\n",
       "      <td>9.430042</td>\n",
       "      <td>0.298346</td>\n",
       "      <td>25862.804109</td>\n",
       "      <td>36469.726350</td>\n",
       "    </tr>\n",
       "    <tr>\n",
       "      <th>min</th>\n",
       "      <td>7.000000</td>\n",
       "      <td>2.000000</td>\n",
       "      <td>0.000000</td>\n",
       "      <td>0.000000</td>\n",
       "      <td>0.000000</td>\n",
       "      <td>1.000000</td>\n",
       "      <td>1.000000</td>\n",
       "      <td>1.000000</td>\n",
       "      <td>1.000000</td>\n",
       "      <td>1.000000</td>\n",
       "      <td>0.000000</td>\n",
       "      <td>0.000000</td>\n",
       "      <td>0.000000</td>\n",
       "    </tr>\n",
       "    <tr>\n",
       "      <th>25%</th>\n",
       "      <td>4402.500000</td>\n",
       "      <td>380.000000</td>\n",
       "      <td>0.000000</td>\n",
       "      <td>1.000000</td>\n",
       "      <td>0.000000</td>\n",
       "      <td>2.000000</td>\n",
       "      <td>1.000000</td>\n",
       "      <td>2.000000</td>\n",
       "      <td>27.000000</td>\n",
       "      <td>13.000000</td>\n",
       "      <td>0.000000</td>\n",
       "      <td>22000.000000</td>\n",
       "      <td>30000.000000</td>\n",
       "    </tr>\n",
       "    <tr>\n",
       "      <th>50%</th>\n",
       "      <td>8556.500000</td>\n",
       "      <td>711.000000</td>\n",
       "      <td>0.000000</td>\n",
       "      <td>1.000000</td>\n",
       "      <td>1.000000</td>\n",
       "      <td>2.000000</td>\n",
       "      <td>3.000000</td>\n",
       "      <td>2.000000</td>\n",
       "      <td>59.000000</td>\n",
       "      <td>19.000000</td>\n",
       "      <td>0.000000</td>\n",
       "      <td>35000.000000</td>\n",
       "      <td>50000.000000</td>\n",
       "    </tr>\n",
       "    <tr>\n",
       "      <th>75%</th>\n",
       "      <td>12934.250000</td>\n",
       "      <td>1055.000000</td>\n",
       "      <td>0.000000</td>\n",
       "      <td>1.000000</td>\n",
       "      <td>1.000000</td>\n",
       "      <td>2.000000</td>\n",
       "      <td>6.000000</td>\n",
       "      <td>5.000000</td>\n",
       "      <td>73.000000</td>\n",
       "      <td>27.000000</td>\n",
       "      <td>0.000000</td>\n",
       "      <td>52000.000000</td>\n",
       "      <td>80000.000000</td>\n",
       "    </tr>\n",
       "    <tr>\n",
       "      <th>max</th>\n",
       "      <td>17866.000000</td>\n",
       "      <td>1330.000000</td>\n",
       "      <td>1.000000</td>\n",
       "      <td>1.000000</td>\n",
       "      <td>1.000000</td>\n",
       "      <td>5.000000</td>\n",
       "      <td>7.000000</td>\n",
       "      <td>13.000000</td>\n",
       "      <td>127.000000</td>\n",
       "      <td>37.000000</td>\n",
       "      <td>1.000000</td>\n",
       "      <td>125000.000000</td>\n",
       "      <td>180000.000000</td>\n",
       "    </tr>\n",
       "  </tbody>\n",
       "</table>\n",
       "</div>"
      ],
      "text/plain": [
       "             job_id   department  telecommuting  has_company_logo  \\\n",
       "count    720.000000   720.000000     720.000000        720.000000   \n",
       "mean    8612.451389   681.920833       0.098611          0.976389   \n",
       "std     5043.050498   353.179535       0.298346          0.151940   \n",
       "min        7.000000     2.000000       0.000000          0.000000   \n",
       "25%     4402.500000   380.000000       0.000000          1.000000   \n",
       "50%     8556.500000   711.000000       0.000000          1.000000   \n",
       "75%    12934.250000  1055.000000       0.000000          1.000000   \n",
       "max    17866.000000  1330.000000       1.000000          1.000000   \n",
       "\n",
       "       has_questions  employment_type  required_experience  \\\n",
       "count     720.000000       720.000000           720.000000   \n",
       "mean        0.668056         2.029167             3.809722   \n",
       "std         0.471239         0.472303             2.195878   \n",
       "min         0.000000         1.000000             1.000000   \n",
       "25%         0.000000         2.000000             1.000000   \n",
       "50%         1.000000         2.000000             3.000000   \n",
       "75%         1.000000         2.000000             6.000000   \n",
       "max         1.000000         5.000000             7.000000   \n",
       "\n",
       "       required_education    industry    function  fraudulent     min_salary  \\\n",
       "count          720.000000  720.000000  720.000000  720.000000     720.000000   \n",
       "mean             4.225000   56.320833   19.205556    0.098611   40383.070833   \n",
       "std              3.059346   29.814188    9.430042    0.298346   25862.804109   \n",
       "min              1.000000    1.000000    1.000000    0.000000       0.000000   \n",
       "25%              2.000000   27.000000   13.000000    0.000000   22000.000000   \n",
       "50%              2.000000   59.000000   19.000000    0.000000   35000.000000   \n",
       "75%              5.000000   73.000000   27.000000    0.000000   52000.000000   \n",
       "max             13.000000  127.000000   37.000000    1.000000  125000.000000   \n",
       "\n",
       "          max_salary  \n",
       "count     720.000000  \n",
       "mean    57402.252778  \n",
       "std     36469.726350  \n",
       "min         0.000000  \n",
       "25%     30000.000000  \n",
       "50%     50000.000000  \n",
       "75%     80000.000000  \n",
       "max    180000.000000  "
      ]
     },
     "execution_count": 41,
     "metadata": {},
     "output_type": "execute_result"
    }
   ],
   "source": [
    "df_new.describe()"
   ]
  },
  {
   "cell_type": "code",
   "execution_count": 42,
   "metadata": {},
   "outputs": [
    {
     "name": "stdout",
     "output_type": "stream",
     "text": [
      "<class 'pandas.core.frame.DataFrame'>\n",
      "Int64Index: 720 entries, 6 to 17865\n",
      "Data columns (total 20 columns):\n",
      " #   Column               Non-Null Count  Dtype  \n",
      "---  ------               --------------  -----  \n",
      " 0   job_id               720 non-null    int64  \n",
      " 1   title                720 non-null    object \n",
      " 2   location             720 non-null    object \n",
      " 3   department           720 non-null    float64\n",
      " 4   salary_range         720 non-null    object \n",
      " 5   company_profile      720 non-null    object \n",
      " 6   description          720 non-null    object \n",
      " 7   requirements         720 non-null    object \n",
      " 8   benefits             720 non-null    object \n",
      " 9   telecommuting        720 non-null    int64  \n",
      " 10  has_company_logo     720 non-null    int64  \n",
      " 11  has_questions        720 non-null    int64  \n",
      " 12  employment_type      720 non-null    float64\n",
      " 13  required_experience  720 non-null    float64\n",
      " 14  required_education   720 non-null    float64\n",
      " 15  industry             720 non-null    float64\n",
      " 16  function             720 non-null    float64\n",
      " 17  fraudulent           720 non-null    int64  \n",
      " 18  min_salary           720 non-null    float64\n",
      " 19  max_salary           720 non-null    float64\n",
      "dtypes: float64(8), int64(5), object(7)\n",
      "memory usage: 118.1+ KB\n"
     ]
    }
   ],
   "source": [
    "df_new.info()"
   ]
  },
  {
   "cell_type": "code",
   "execution_count": 43,
   "metadata": {},
   "outputs": [
    {
     "name": "stderr",
     "output_type": "stream",
     "text": [
      "/mnt/disk/bishop/miniconda3/envs/bd/lib/python3.6/site-packages/seaborn/_decorators.py:43: FutureWarning: Pass the following variable as a keyword arg: x. From version 0.12, the only valid positional argument will be `data`, and passing other arguments without an explicit keyword will result in an error or misinterpretation.\n",
      "  FutureWarning\n",
      "/mnt/disk/bishop/miniconda3/envs/bd/lib/python3.6/site-packages/seaborn/distributions.py:2557: FutureWarning: `distplot` is a deprecated function and will be removed in a future version. Please adapt your code to use either `displot` (a figure-level function with similar flexibility) or `histplot` (an axes-level function for histograms).\n",
      "  warnings.warn(msg, FutureWarning)\n",
      "/mnt/disk/bishop/miniconda3/envs/bd/lib/python3.6/site-packages/seaborn/_decorators.py:43: FutureWarning: Pass the following variable as a keyword arg: x. From version 0.12, the only valid positional argument will be `data`, and passing other arguments without an explicit keyword will result in an error or misinterpretation.\n",
      "  FutureWarning\n",
      "/mnt/disk/bishop/miniconda3/envs/bd/lib/python3.6/site-packages/seaborn/distributions.py:2557: FutureWarning: `distplot` is a deprecated function and will be removed in a future version. Please adapt your code to use either `displot` (a figure-level function with similar flexibility) or `histplot` (an axes-level function for histograms).\n",
      "  warnings.warn(msg, FutureWarning)\n",
      "/mnt/disk/bishop/miniconda3/envs/bd/lib/python3.6/site-packages/seaborn/_decorators.py:43: FutureWarning: Pass the following variable as a keyword arg: x. From version 0.12, the only valid positional argument will be `data`, and passing other arguments without an explicit keyword will result in an error or misinterpretation.\n",
      "  FutureWarning\n",
      "/mnt/disk/bishop/miniconda3/envs/bd/lib/python3.6/site-packages/seaborn/distributions.py:2557: FutureWarning: `distplot` is a deprecated function and will be removed in a future version. Please adapt your code to use either `displot` (a figure-level function with similar flexibility) or `histplot` (an axes-level function for histograms).\n",
      "  warnings.warn(msg, FutureWarning)\n",
      "/mnt/disk/bishop/miniconda3/envs/bd/lib/python3.6/site-packages/seaborn/_decorators.py:43: FutureWarning: Pass the following variable as a keyword arg: x. From version 0.12, the only valid positional argument will be `data`, and passing other arguments without an explicit keyword will result in an error or misinterpretation.\n",
      "  FutureWarning\n",
      "/mnt/disk/bishop/miniconda3/envs/bd/lib/python3.6/site-packages/seaborn/distributions.py:2557: FutureWarning: `distplot` is a deprecated function and will be removed in a future version. Please adapt your code to use either `displot` (a figure-level function with similar flexibility) or `histplot` (an axes-level function for histograms).\n",
      "  warnings.warn(msg, FutureWarning)\n"
     ]
    },
    {
     "data": {
      "text/plain": [
       "[Text(0.5, 0, 'Salary'),\n",
       " Text(0, 0.5, 'Count'),\n",
       " Text(0.5, 1.0, 'Maximum salary in fake job postings')]"
      ]
     },
     "execution_count": 43,
     "metadata": {},
     "output_type": "execute_result"
    },
    {
     "data": {
      "image/png": "[encoded data removed]",
      "text/plain": [
       "<Figure size 1440x2304 with 8 Axes>"
      ]
     },
     "metadata": {},
     "output_type": "display_data"
    }
   ],
   "source": [
    "fig, ax = plt.subplots(4, 2, figsize=(20,32))\n",
    "\n",
    "plt.subplot(4, 2, 1)\n",
    "sns.set(style='whitegrid')\n",
    "sns.boxplot(df_new.loc[df_new['fraudulent'] == 0, 'min_salary']).set(xlabel='Salary', title='Minimum salary in real job postings')\n",
    "\n",
    "plt.subplot(4, 2, 2)\n",
    "sns.set(style='whitegrid')\n",
    "sns.distplot(df_new.loc[df_new['fraudulent'] == 0, 'min_salary'], norm_hist=False, kde=False, bins=28, hist_kws={\"alpha\": 1}).\\\n",
    "    set(xlabel='Salary', ylabel='Count', title='Minimum salary in real job postings')\n",
    "\n",
    "plt.subplot(4, 2, 3)\n",
    "sns.set(style='whitegrid')\n",
    "sns.boxplot(df_new.loc[df_new['fraudulent'] == 0, 'max_salary']).set(xlabel='Salary', title='Maximum salary in real job postings')\n",
    "\n",
    "plt.subplot(4, 2, 4)\n",
    "sns.set(style='whitegrid')\n",
    "sns.distplot(df_new.loc[df_new['fraudulent'] == 0, 'max_salary'], norm_hist=False, kde=False, bins=28, hist_kws={\"alpha\": 1}).\\\n",
    "    set(xlabel='Salary', ylabel='Count', title='Maximum salary in real job postings')\n",
    "\n",
    "plt.subplot(4, 2, 5)\n",
    "sns.set(style='whitegrid')\n",
    "sns.boxplot(df_new.loc[df_new['fraudulent'] == 1, 'min_salary']).set(xlabel='Salary', title='Minimum salary in fake job postings')\n",
    "\n",
    "plt.subplot(4, 2, 6)\n",
    "sns.set(style='whitegrid')\n",
    "sns.distplot(df_new.loc[df_new['fraudulent'] == 1, 'min_salary'], norm_hist=False, kde=False, bins=28, hist_kws={\"alpha\": 1}).\\\n",
    "    set(xlabel='Salary', ylabel='Count', title='Minimum salary in fake job postings')\n",
    "\n",
    "plt.subplot(4, 2, 7)\n",
    "sns.set(style='whitegrid')\n",
    "sns.boxplot(df_new.loc[df_new['fraudulent'] == 1, 'max_salary']).set(xlabel='Salary', title='Maximum salary in fake job postings')\n",
    "\n",
    "plt.subplot(4, 2, 8)\n",
    "sns.set(style='whitegrid')\n",
    "sns.distplot(df_new.loc[df_new['fraudulent'] == 1, 'max_salary'], norm_hist=False, kde=False, bins=28, hist_kws={\"alpha\": 1}).\\\n",
    "    set(xlabel='Salary', ylabel='Count', title='Maximum salary in fake job postings')"
   ]
  },
  {
   "cell_type": "markdown",
   "metadata": {},
   "source": [
    "Let's check the class distribution after dropping all these records."
   ]
  },
  {
   "cell_type": "code",
   "execution_count": 44,
   "metadata": {},
   "outputs": [
    {
     "name": "stdout",
     "output_type": "stream",
     "text": [
      "720 records\n",
      "\n",
      "2 classes:\n",
      "0 (real)\n",
      "1 (fake)\n",
      "\n",
      "Class rate:\n",
      "0: 90%\n",
      "1: 10%\n",
      "\n"
     ]
    }
   ],
   "source": [
    "total_records = df_new.shape[0]\n",
    "print(f'{total_records} records\\n')\n",
    "\n",
    "classes = df_new['fraudulent'].value_counts().keys().to_list()\n",
    "print(f'{len(classes)} classes:\\n{classes[0]} (real)\\n{classes[1]} (fake)\\n')\n",
    "\n",
    "total_records = df_new.shape[0]\n",
    "real = df_new.loc[df_new['fraudulent'] == 0].count()[0]\n",
    "print(f'Class rate:\\n{classes[0]}: {round(real/total_records*100)}%\\n{classes[1]}: {round((1-real/total_records)*100)}%\\n')"
   ]
  },
  {
   "cell_type": "markdown",
   "metadata": {},
   "source": [
    "We can see that we are left with less than 10% of the number of records in the original dataset. On the other hand, the class imbalance situtation is somehow improved, changing from 95% - 5% to 90% - 10%.\n",
    "\n",
    "Based on this, we are expecting an even worse result than the one from Experiment #2 from the classification process.\n",
    "\n",
    "Let's see this for ourselves."
   ]
  },
  {
   "cell_type": "code",
   "execution_count": 45,
   "metadata": {},
   "outputs": [
    {
     "name": "stdout",
     "output_type": "stream",
     "text": [
      "Gaussian Naive Bayes scores:\n",
      "              precision    recall  f1-score   support\n",
      "\n",
      "           0       0.00      0.00      0.00       129\n",
      "           1       0.10      1.00      0.19        15\n",
      "\n",
      "    accuracy                           0.10       144\n",
      "   macro avg       0.05      0.50      0.09       144\n",
      "weighted avg       0.01      0.10      0.02       144\n",
      "\n",
      "\n",
      "Nearest Centroid scores:\n",
      "              precision    recall  f1-score   support\n",
      "\n",
      "           0       0.89      0.44      0.59       129\n",
      "           1       0.10      0.53      0.17        15\n",
      "\n",
      "    accuracy                           0.45       144\n",
      "   macro avg       0.50      0.49      0.38       144\n",
      "weighted avg       0.81      0.45      0.55       144\n",
      "\n",
      "\n",
      "Perceptron scores:\n",
      "              precision    recall  f1-score   support\n",
      "\n",
      "           0       0.89      0.98      0.93       129\n",
      "           1       0.00      0.00      0.00        15\n",
      "\n",
      "    accuracy                           0.88       144\n",
      "   macro avg       0.45      0.49      0.47       144\n",
      "weighted avg       0.80      0.88      0.84       144\n",
      "\n",
      "\n",
      "\n",
      "Decision Tree classifier scores\n",
      "              precision    recall  f1-score   support\n",
      "\n",
      "           0       1.00      0.98      0.99       129\n",
      "           1       0.83      1.00      0.91        15\n",
      "\n",
      "    accuracy                           0.98       144\n",
      "   macro avg       0.92      0.99      0.95       144\n",
      "weighted avg       0.98      0.98      0.98       144\n",
      "\n",
      "\n",
      "Bagging classifier with Decision Tree classifier scores\n",
      "              precision    recall  f1-score   support\n",
      "\n",
      "           0       0.98      1.00      0.99       129\n",
      "           1       1.00      0.87      0.93        15\n",
      "\n",
      "    accuracy                           0.99       144\n",
      "   macro avg       0.99      0.93      0.96       144\n",
      "weighted avg       0.99      0.99      0.99       144\n",
      "\n",
      "\n",
      "AdaBoost classifier with Decision Tree classifier scores\n",
      "              precision    recall  f1-score   support\n",
      "\n",
      "           0       1.00      0.99      1.00       129\n",
      "           1       0.94      1.00      0.97        15\n",
      "\n",
      "    accuracy                           0.99       144\n",
      "   macro avg       0.97      1.00      0.98       144\n",
      "weighted avg       0.99      0.99      0.99       144\n",
      "\n",
      "\n",
      "\n",
      "Stochastic Gradient Descent classifier scores\n",
      "              precision    recall  f1-score   support\n",
      "\n",
      "           0       0.90      1.00      0.95       129\n",
      "           1       0.00      0.00      0.00        15\n",
      "\n",
      "    accuracy                           0.90       144\n",
      "   macro avg       0.45      0.50      0.47       144\n",
      "weighted avg       0.80      0.90      0.85       144\n",
      "\n",
      "\n",
      "Bagging classifier with Stochastic Gradient Descent classifier scores\n",
      "              precision    recall  f1-score   support\n",
      "\n",
      "           0       0.90      1.00      0.95       129\n",
      "           1       0.00      0.00      0.00        15\n",
      "\n",
      "    accuracy                           0.90       144\n",
      "   macro avg       0.45      0.50      0.47       144\n",
      "weighted avg       0.80      0.90      0.85       144\n",
      "\n",
      "\n",
      "AdaBoost classifier with Stochastic Gradient Descent classifier scores\n",
      "              precision    recall  f1-score   support\n",
      "\n",
      "           0       0.90      1.00      0.95       129\n",
      "           1       0.00      0.00      0.00        15\n",
      "\n",
      "    accuracy                           0.90       144\n",
      "   macro avg       0.45      0.50      0.47       144\n",
      "weighted avg       0.80      0.90      0.85       144\n",
      "\n"
     ]
    }
   ],
   "source": [
    "transformer = FeatureUnion([\n",
    "                ('profile_tfidf',\n",
    "                  Pipeline([('extract_text', FunctionTransformer(lambda x: x['company_profile'], validate=False)),\n",
    "                            ('tfidf', TfidfVectorizer(token_pattern=r'\\w{1,}', ngram_range=(2, 3), max_df=0.34, min_df=0.001)),\n",
    "#                             ('scaler', StandardScaler(with_mean=False))\n",
    "                           ])),\n",
    "                ('profile_count',\n",
    "                  Pipeline([('extract_text', FunctionTransformer(lambda x: x['company_profile'], validate=False)),\n",
    "                            ('count', CountVectorizer(token_pattern=r'\\w{1,}', ngram_range=(2, 3), max_df=0.34, min_df=0.001, binary=True)),\n",
    "#                             ('scaler', StandardScaler(with_mean=False))\n",
    "                           ])),\n",
    "                ('description_tfidf',\n",
    "                  Pipeline([('extract_text', FunctionTransformer(lambda x: x['description'], validate=False)),\n",
    "                            ('tfidf', TfidfVectorizer(token_pattern=r'\\w{1,}', ngram_range=(2, 3), max_df=0.34, min_df=0.001)),\n",
    "#                             ('scaler', StandardScaler(with_mean=False))\n",
    "                           ])),\n",
    "                ('description_count',\n",
    "                  Pipeline([('extract_text', FunctionTransformer(lambda x: x['description'], validate=False)),\n",
    "                            ('count', CountVectorizer(token_pattern=r'\\w{1,}', ngram_range=(2, 3), max_df=0.34, min_df=0.001, binary=True)),\n",
    "#                             ('scaler', StandardScaler(with_mean=False))\n",
    "                           ])),\n",
    "                ('requirements_tfidf', \n",
    "                  Pipeline([('extract_text', FunctionTransformer(lambda x: x['requirements'], validate=False)),\n",
    "                            ('tfidf', TfidfVectorizer(token_pattern=r'\\w{1,}', ngram_range=(2, 3), max_df=0.34, min_df=0.001)),\n",
    "#                             ('scaler', StandardScaler(with_mean=False))\n",
    "                           ])),\n",
    "                ('requirements_count', \n",
    "                  Pipeline([('extract_text', FunctionTransformer(lambda x: x['requirements'], validate=False)),\n",
    "                            ('count', CountVectorizer(token_pattern=r'\\w{1,}', ngram_range=(2, 3), max_df=0.34, min_df=0.001, binary=True)),\n",
    "#                             ('scaler', StandardScaler(with_mean=False))\n",
    "                           ])),\n",
    "                ('benefits_tfidf', \n",
    "                  Pipeline([('extract_text', FunctionTransformer(lambda x: x['benefits'], validate=False)),\n",
    "                            ('tfidf', TfidfVectorizer(token_pattern=r'\\w{1,}', ngram_range=(2, 3), analyzer='word', max_df=0.34, min_df=0.001)),\n",
    "#                             ('scaler', StandardScaler(with_mean=False))\n",
    "                           ])),\n",
    "                ('benefits_count', \n",
    "                  Pipeline([('extract_text', FunctionTransformer(lambda x: x['benefits'], validate=False)),\n",
    "                            ('count', CountVectorizer(token_pattern=r'\\w{1,}', ngram_range=(2, 3), analyzer='word', max_df=0.34, min_df=0.001, binary=True)),\n",
    "#                             ('scaler', StandardScaler(with_mean=False))\n",
    "                           ])),\n",
    "                ('telecommuting', \n",
    "                  Pipeline([('extract_number', FunctionTransformer(lambda x: x[['telecommuting']], validate=False)),\n",
    "                            ('imputer', SimpleImputer()),\n",
    "#                             ('scaler', StandardScaler())\n",
    "                            ])),\n",
    "                ('department', \n",
    "                  Pipeline([('extract_number', FunctionTransformer(lambda x: x[['department']], validate=False)),\n",
    "                            ('imputer', SimpleImputer()),\n",
    "#                             ('scaler', StandardScaler())\n",
    "                            ])),\n",
    "                ('has_company_logo', \n",
    "                  Pipeline([('extract_number', FunctionTransformer(lambda x: x[['has_company_logo']], validate=False)),\n",
    "                            ('imputer', SimpleImputer()),\n",
    "#                             ('scaler', StandardScaler())\n",
    "                            ])),\n",
    "                ('has_questions', \n",
    "                  Pipeline([('extract_number', FunctionTransformer(lambda x: x[['has_questions']], validate=False)),\n",
    "                            ('imputer', SimpleImputer()),\n",
    "#                             ('scaler', StandardScaler())\n",
    "                            ])),\n",
    "                ('employment_type', \n",
    "                  Pipeline([('extract_number', FunctionTransformer(lambda x: x[['employment_type']], validate=False)),\n",
    "                            ('imputer', SimpleImputer()),\n",
    "#                             ('scaler', StandardScaler())\n",
    "                            ])),\n",
    "                ('required_experience', \n",
    "                  Pipeline([('extract_number', FunctionTransformer(lambda x: x[['required_experience']], validate=False)),\n",
    "                            ('imputer', SimpleImputer()),\n",
    "#                             ('scaler', StandardScaler())\n",
    "                            ])),\n",
    "                ('required_education', \n",
    "                  Pipeline([('extract_number', FunctionTransformer(lambda x: x[['required_education']], validate=False)),\n",
    "                            ('imputer', SimpleImputer()),\n",
    "#                             ('scaler', StandardScaler())\n",
    "                            ])),\n",
    "                ('industry', \n",
    "                  Pipeline([('extract_number', FunctionTransformer(lambda x: x[['industry']], validate=False)),\n",
    "                            ('imputer', SimpleImputer()),\n",
    "#                             ('scaler', StandardScaler())\n",
    "                            ])),\n",
    "                ('function', \n",
    "                  Pipeline([('extract_number', FunctionTransformer(lambda x: x[['function']], validate=False)),\n",
    "                            ('imputer', SimpleImputer()),\n",
    "#                             ('scaler', StandardScaler())\n",
    "                            ])),\n",
    "                ('min_salary', \n",
    "                  Pipeline([('extract_numeric', FunctionTransformer(lambda x: x[['min_salary']], validate=False)),\n",
    "                            ('imputer', SimpleImputer()),\n",
    "#                             ('scaler', StandardScaler())\n",
    "                            ])),\n",
    "                ('max_salary', \n",
    "                  Pipeline([('extract_numeric', FunctionTransformer(lambda x: x[['max_salary']], validate=False)),\n",
    "                            ('imputer', SimpleImputer()),\n",
    "#                             ('scaler', StandardScaler())\n",
    "                            ])),\n",
    "            ])\n",
    "\n",
    "\n",
    "# train features and labels\n",
    "train, valid = train_test_split(df_new, test_size=0.2, random_state=13)\n",
    "X_train = transformer.fit_transform(train.drop(['job_id', 'title', 'location', 'fraudulent'], axis=1)).toarray()\n",
    "y_train = train['fraudulent'].to_numpy()\n",
    "X_valid = transformer.transform(valid.drop(['job_id', 'title', 'location', 'fraudulent'], axis=1)).toarray()\n",
    "y_valid = valid['fraudulent'].to_numpy()\n",
    "\n",
    "\n",
    "# use Gaussian Naive Bayes classifier\n",
    "clf = GaussianNB()\n",
    "scores = evaluate_classifier(clf, X_train, y_train, X_valid, y_valid)\n",
    "print('Gaussian Naive Bayes scores:')\n",
    "print(scores)\n",
    "\n",
    "print('')\n",
    "\n",
    "# use Nearest Centroid classifier\n",
    "clf = NearestCentroid()\n",
    "scores = evaluate_classifier(clf, X_train, y_train, X_valid, y_valid)\n",
    "print('Nearest Centroid scores:')\n",
    "print(scores)\n",
    "\n",
    "print('')\n",
    "\n",
    "# use Perceptron classifier\n",
    "clf = Perceptron()\n",
    "scores = evaluate_classifier(clf, X_train, y_train, X_valid, y_valid)\n",
    "print('Perceptron scores:')\n",
    "print(scores)\n",
    "\n",
    "\n",
    "print('\\n')\n",
    "\n",
    "\n",
    "# use Decision Trees classifier\n",
    "clf = DecisionTreeClassifier()\n",
    "scores = evaluate_classifier(clf, X_train, y_train, X_valid, y_valid)\n",
    "print('Decision Tree classifier scores')\n",
    "print(scores)\n",
    "\n",
    "print('')\n",
    "\n",
    "# use Bagging with Decision Trees classifier\n",
    "clf = BaggingClassifier(DecisionTreeClassifier())\n",
    "scores = evaluate_classifier(clf, X_train, y_train, X_valid, y_valid)\n",
    "print('Bagging classifier with Decision Tree classifier scores')\n",
    "print(scores)\n",
    "\n",
    "print('')\n",
    "\n",
    "# use Boosting with Decision Trees classifier\n",
    "clf = AdaBoostClassifier(DecisionTreeClassifier())\n",
    "scores = evaluate_classifier(clf, X_train, y_train, X_valid, y_valid)\n",
    "print('AdaBoost classifier with Decision Tree classifier scores')\n",
    "print(scores)\n",
    "\n",
    "\n",
    "print('\\n')\n",
    "\n",
    "\n",
    "# use Stochastic Gradient Descent classifier\n",
    "clf = SGDClassifier()\n",
    "scores = evaluate_classifier(clf, X_train, y_train, X_valid, y_valid)\n",
    "print('Stochastic Gradient Descent classifier scores')\n",
    "print(scores)\n",
    "\n",
    "print('')\n",
    "\n",
    "# use Bagging with Gradient Descent classifier\n",
    "clf = BaggingClassifier(SGDClassifier())\n",
    "scores = evaluate_classifier(clf, X_train, y_train, X_valid, y_valid)\n",
    "print('Bagging classifier with Stochastic Gradient Descent classifier scores')\n",
    "print(scores)\n",
    "\n",
    "print('')\n",
    "\n",
    "# use Boosting with Gradient Descent classifier\n",
    "clf = AdaBoostClassifier(SGDClassifier(), algorithm='SAMME')\n",
    "scores = evaluate_classifier(clf, X_train, y_train, X_valid, y_valid)\n",
    "print('AdaBoost classifier with Stochastic Gradient Descent classifier scores')\n",
    "print(scores)"
   ]
  },
  {
   "cell_type": "markdown",
   "metadata": {},
   "source": [
    "As expected, the resutls were not that great.\n",
    "\n",
    "However, some classifiers, like Gaussian Naive Bayes, Decision Trees and Stochastic Gradient Descent produce somewhat good results, even if precision and recall are not balanced in most cases.\n",
    "\n",
    "Also, both bagging and boosting do not offer any significant advantage. Some times, they improve the performance, while other times they make the classifiers underperform."
   ]
  },
  {
   "cell_type": "markdown",
   "metadata": {},
   "source": [
    "Let's see how a simple deep learning model performs."
   ]
  },
  {
   "cell_type": "code",
   "execution_count": 46,
   "metadata": {},
   "outputs": [],
   "source": [
    "# Labels --> one-hot encodings\n",
    "y_train = to_categorical(y_train.reshape([-1, 1]))\n",
    "y_valid = to_categorical(y_valid.reshape([-1, 1]))"
   ]
  },
  {
   "cell_type": "code",
   "execution_count": 47,
   "metadata": {},
   "outputs": [],
   "source": [
    "dropout_rate=0.3\n",
    "learning_rate=0.1\n",
    "patience=1\n",
    "batch_size=32\n",
    "epochs=20\n",
    "units=[256, 128, 2]"
   ]
  },
  {
   "cell_type": "code",
   "execution_count": 48,
   "metadata": {},
   "outputs": [
    {
     "name": "stdout",
     "output_type": "stream",
     "text": [
      "Model: \"sequential_2\"\n",
      "_________________________________________________________________\n",
      "Layer (type)                 Output Shape              Param #   \n",
      "=================================================================\n",
      "dense_8 (Dense)              (None, 256)               83667968  \n",
      "_________________________________________________________________\n",
      "dense_9 (Dense)              (None, 128)               32896     \n",
      "_________________________________________________________________\n",
      "dense_10 (Dense)             (None, 2)                 258       \n",
      "_________________________________________________________________\n",
      "dense_11 (Dense)             (None, 2)                 6         \n",
      "=================================================================\n",
      "Total params: 83,701,128\n",
      "Trainable params: 83,701,128\n",
      "Non-trainable params: 0\n",
      "_________________________________________________________________\n"
     ]
    }
   ],
   "source": [
    "model = build_model(X_train, y_train, relu, units, dropout_rate, learning_rate)"
   ]
  },
  {
   "cell_type": "markdown",
   "metadata": {},
   "source": [
    "Let's train the model."
   ]
  },
  {
   "cell_type": "code",
   "execution_count": 49,
   "metadata": {
    "tags": []
   },
   "outputs": [
    {
     "name": "stdout",
     "output_type": "stream",
     "text": [
      "Epoch 1/20\n",
      "18/18 [==============================] - 3s 159ms/step - loss: 4159.0952 - accuracy: 0.8542 - val_loss: 0.4336 - val_accuracy: 0.8958\n",
      "Epoch 2/20\n",
      "18/18 [==============================] - 2s 135ms/step - loss: 0.3848 - accuracy: 0.9028 - val_loss: 0.3642 - val_accuracy: 0.8958\n",
      "Epoch 3/20\n",
      "18/18 [==============================] - 3s 144ms/step - loss: 0.3426 - accuracy: 0.9028 - val_loss: 0.3447 - val_accuracy: 0.8958\n",
      "Epoch 4/20\n",
      "18/18 [==============================] - 3s 143ms/step - loss: 0.3286 - accuracy: 0.9028 - val_loss: 0.3380 - val_accuracy: 0.8958\n",
      "Epoch 5/20\n",
      "18/18 [==============================] - 3s 142ms/step - loss: 0.3234 - accuracy: 0.9028 - val_loss: 0.3355 - val_accuracy: 0.8958\n",
      "Epoch 6/20\n",
      "18/18 [==============================] - 3s 144ms/step - loss: 0.3212 - accuracy: 0.9028 - val_loss: 0.3346 - val_accuracy: 0.8958\n",
      "Epoch 7/20\n",
      "18/18 [==============================] - 2s 137ms/step - loss: 0.3201 - accuracy: 0.9028 - val_loss: 0.3343 - val_accuracy: 0.8958\n",
      "Epoch 8/20\n",
      "18/18 [==============================] - 3s 151ms/step - loss: 0.3198 - accuracy: 0.9028 - val_loss: 0.3342 - val_accuracy: 0.8958\n",
      "Epoch 9/20\n",
      "18/18 [==============================] - 3s 165ms/step - loss: 0.3196 - accuracy: 0.9028 - val_loss: 0.3341 - val_accuracy: 0.8958\n",
      "Epoch 10/20\n",
      "18/18 [==============================] - 3s 153ms/step - loss: 0.3194 - accuracy: 0.9028 - val_loss: 0.3342 - val_accuracy: 0.8958\n"
     ]
    },
    {
     "data": {
      "text/plain": [
       "<tensorflow.python.keras.callbacks.History at 0x7f979ddc9d30>"
      ]
     },
     "execution_count": 49,
     "metadata": {},
     "output_type": "execute_result"
    }
   ],
   "source": [
    "early_stopping = EarlyStopping(monitor='val_loss', mode='min', patience=patience, restore_best_weights=True)\n",
    "\n",
    "model.fit(x=X_train, y=y_train, \n",
    "          validation_data=(X_valid, y_valid), \n",
    "          batch_size=batch_size, epochs=epochs, \n",
    "          callbacks=[early_stopping])"
   ]
  },
  {
   "cell_type": "markdown",
   "metadata": {},
   "source": [
    "Let's plot the losses."
   ]
  },
  {
   "cell_type": "code",
   "execution_count": 50,
   "metadata": {},
   "outputs": [
    {
     "data": {
      "text/plain": [
       "<AxesSubplot:>"
      ]
     },
     "execution_count": 50,
     "metadata": {},
     "output_type": "execute_result"
    },
    {
     "data": {
      "image/png": "[encoded data removed]",
      "text/plain": [
       "<Figure size 720x576 with 1 Axes>"
      ]
     },
     "metadata": {},
     "output_type": "display_data"
    }
   ],
   "source": [
    "losses = pd.DataFrame(model.history.history)\n",
    "losses.plot(figsize=(10,8))"
   ]
  },
  {
   "cell_type": "markdown",
   "metadata": {},
   "source": [
    "Let's evaluate our model."
   ]
  },
  {
   "cell_type": "code",
   "execution_count": 51,
   "metadata": {},
   "outputs": [
    {
     "name": "stdout",
     "output_type": "stream",
     "text": [
      "5/5 [==============================] - 0s 54ms/step - loss: 0.3341 - accuracy: 0.8958\n"
     ]
    },
    {
     "data": {
      "text/plain": [
       "[0.3341462314128876, 0.8958333134651184]"
      ]
     },
     "execution_count": 51,
     "metadata": {},
     "output_type": "execute_result"
    }
   ],
   "source": [
    "model.evaluate(X_valid, y_valid)"
   ]
  },
  {
   "cell_type": "code",
   "execution_count": 52,
   "metadata": {},
   "outputs": [
    {
     "name": "stdout",
     "output_type": "stream",
     "text": [
      "              precision    recall  f1-score   support\n",
      "\n",
      "           0       0.90      1.00      0.95       129\n",
      "           1       0.00      0.00      0.00        15\n",
      "\n",
      "   micro avg       0.90      0.90      0.90       144\n",
      "   macro avg       0.45      0.50      0.47       144\n",
      "weighted avg       0.80      0.90      0.85       144\n",
      " samples avg       0.90      0.90      0.90       144\n",
      "\n"
     ]
    }
   ],
   "source": [
    "# predict the labels on validation dataset\n",
    "y_pred = model.predict(X_valid).round()\n",
    "\n",
    "# gather scores\n",
    "scores = classification_report(y_valid, y_pred, zero_division=0)\n",
    "print(scores)"
   ]
  },
  {
   "cell_type": "markdown",
   "metadata": {},
   "source": [
    "Again, the deep learning model has about the same evaluation results as the other simple classifiers."
   ]
  },
  {
   "cell_type": "markdown",
   "metadata": {},
   "source": [
    "### Conclusion"
   ]
  },
  {
   "cell_type": "markdown",
   "metadata": {},
   "source": [
    "We can see that due to the class imbalance, most of the classifiers we evaluated have trouble producing reliable results, especially for class 1 (fraudulent).\n",
    "\n",
    "Experiment #2 had the most reliable results, as we can see that for this class precision, recall and f1-score are good for both classes, while in the other 2 experiments these values were zero for class 1.\n",
    "\n",
    "We can also see that in specific cases bagging and boosting slightly improve the results in Experiment #2, which in the others they made the classifiers produce worse results."
   ]
  }
 ],
 "metadata": {
  "kernelspec": {
   "display_name": "Python 3",
   "language": "python",
   "name": "python3"
  },
  "language_info": {
   "codemirror_mode": {
    "name": "ipython",
    "version": 3
   },
   "file_extension": ".py",
   "mimetype": "text/x-python",
   "name": "python",
   "nbconvert_exporter": "python",
   "pygments_lexer": "ipython3",
   "version": "3.6.13"
  }
 },
 "nbformat": 4,
 "nbformat_minor": 4
}
